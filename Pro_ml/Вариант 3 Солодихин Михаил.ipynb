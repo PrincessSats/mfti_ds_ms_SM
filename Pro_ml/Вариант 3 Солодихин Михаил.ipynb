{
 "cells": [
  {
   "cell_type": "markdown",
   "metadata": {
    "id": "-rX8cvHCzany"
   },
   "source": [
    "# Задача\n",
    "В этой работе вам предлагается решить задачу регрессии, а именно построить алгоритм, определяющий качество вина на основе физико-химических тестов:\n",
    " - fixed acidity\n",
    " - volatile acidity\n",
    " - citric acid\n",
    " - residual sugar\n",
    " - chlorides\n",
    " - free sulfur dioxide\n",
    " - total sulfur dioxide\n",
    " - density\n",
    " - pH\n",
    " - sulphates\n",
    " - alcohol \n",
    " \n",
    "Более подробно про признаки можно почитать [здесь](https://archive.ics.uci.edu/ml/datasets/wine+quality). Целевой признак записан в переменной *quality*.\n",
    "\n",
    "В этой задаче для обучения будут использовать 2 алгоритма:\n",
    "- [DecisonTree](https://scikit-learn.org/stable/modules/generated/sklearn.tree.DecisionTreeRegressor.html)\n",
    "- [AdaBoostRegressor](https://scikit-learn.org/stable/modules/generated/sklearn.ensemble.AdaBoostRegressor.html#sklearn.ensemble.AdaBoostRegressor)"
   ]
  },
  {
   "cell_type": "markdown",
   "metadata": {
    "id": "yKvOO2LGzan3"
   },
   "source": [
    "# Решение"
   ]
  },
  {
   "cell_type": "markdown",
   "metadata": {
    "id": "MrewBnQJibsR"
   },
   "source": [
    "Загрузите набор данных *winequality-red.csv* с помощью `pandas` (скачать можно [здесь](https://archive.ics.uci.edu/ml/machine-learning-databases/wine-quality/winequality-red.csv), или с помощью скрипта ниже). Чтобы лучше понимать, с чем вы работаете/корректно ли вы загрузили данные можно вывести несколько первых строк на экран."
   ]
  },
  {
   "cell_type": "code",
   "execution_count": 15,
   "metadata": {
    "id": "So-LVYjsibsU"
   },
   "outputs": [],
   "source": [
    "#!wget https://archive.ics.uci.edu/ml/machine-learning-databases/wine-quality/winequality-red.csv\n",
    "# your code here\n",
    "import numpy as np\n",
    "import pandas as pd\n"
   ]
  },
  {
   "cell_type": "code",
   "execution_count": 16,
   "metadata": {},
   "outputs": [
    {
     "name": "stdout",
     "output_type": "stream",
     "text": [
      "   fixed acidity  volatile acidity  citric acid  residual sugar  chlorides  \\\n",
      "0            7.4              0.70         0.00             1.9      0.076   \n",
      "1            7.8              0.88         0.00             2.6      0.098   \n",
      "2            7.8              0.76         0.04             2.3      0.092   \n",
      "3           11.2              0.28         0.56             1.9      0.075   \n",
      "4            7.4              0.70         0.00             1.9      0.076   \n",
      "\n",
      "   free sulfur dioxide  total sulfur dioxide  density    pH  sulphates  \\\n",
      "0                 11.0                  34.0   0.9978  3.51       0.56   \n",
      "1                 25.0                  67.0   0.9968  3.20       0.68   \n",
      "2                 15.0                  54.0   0.9970  3.26       0.65   \n",
      "3                 17.0                  60.0   0.9980  3.16       0.58   \n",
      "4                 11.0                  34.0   0.9978  3.51       0.56   \n",
      "\n",
      "   alcohol  quality  \n",
      "0      9.4        5  \n",
      "1      9.8        5  \n",
      "2      9.8        5  \n",
      "3      9.8        6  \n",
      "4      9.4        5  \n",
      "<class 'pandas.core.frame.DataFrame'>\n",
      "RangeIndex: 1599 entries, 0 to 1598\n",
      "Data columns (total 12 columns):\n",
      " #   Column                Non-Null Count  Dtype  \n",
      "---  ------                --------------  -----  \n",
      " 0   fixed acidity         1599 non-null   float64\n",
      " 1   volatile acidity      1599 non-null   float64\n",
      " 2   citric acid           1599 non-null   float64\n",
      " 3   residual sugar        1599 non-null   float64\n",
      " 4   chlorides             1599 non-null   float64\n",
      " 5   free sulfur dioxide   1599 non-null   float64\n",
      " 6   total sulfur dioxide  1599 non-null   float64\n",
      " 7   density               1599 non-null   float64\n",
      " 8   pH                    1599 non-null   float64\n",
      " 9   sulphates             1599 non-null   float64\n",
      " 10  alcohol               1599 non-null   float64\n",
      " 11  quality               1599 non-null   int64  \n",
      "dtypes: float64(11), int64(1)\n",
      "memory usage: 150.0 KB\n",
      "None\n",
      "       fixed acidity  volatile acidity  citric acid  residual sugar  \\\n",
      "count    1599.000000       1599.000000  1599.000000     1599.000000   \n",
      "mean        8.319637          0.527821     0.270976        2.538806   \n",
      "std         1.741096          0.179060     0.194801        1.409928   \n",
      "min         4.600000          0.120000     0.000000        0.900000   \n",
      "25%         7.100000          0.390000     0.090000        1.900000   \n",
      "50%         7.900000          0.520000     0.260000        2.200000   \n",
      "75%         9.200000          0.640000     0.420000        2.600000   \n",
      "max        15.900000          1.580000     1.000000       15.500000   \n",
      "\n",
      "         chlorides  free sulfur dioxide  total sulfur dioxide      density  \\\n",
      "count  1599.000000          1599.000000           1599.000000  1599.000000   \n",
      "mean      0.087467            15.874922             46.467792     0.996747   \n",
      "std       0.047065            10.460157             32.895324     0.001887   \n",
      "min       0.012000             1.000000              6.000000     0.990070   \n",
      "25%       0.070000             7.000000             22.000000     0.995600   \n",
      "50%       0.079000            14.000000             38.000000     0.996750   \n",
      "75%       0.090000            21.000000             62.000000     0.997835   \n",
      "max       0.611000            72.000000            289.000000     1.003690   \n",
      "\n",
      "                pH    sulphates      alcohol      quality  \n",
      "count  1599.000000  1599.000000  1599.000000  1599.000000  \n",
      "mean      3.311113     0.658149    10.422983     5.636023  \n",
      "std       0.154386     0.169507     1.065668     0.807569  \n",
      "min       2.740000     0.330000     8.400000     3.000000  \n",
      "25%       3.210000     0.550000     9.500000     5.000000  \n",
      "50%       3.310000     0.620000    10.200000     6.000000  \n",
      "75%       3.400000     0.730000    11.100000     6.000000  \n",
      "max       4.010000     2.000000    14.900000     8.000000  \n"
     ]
    }
   ],
   "source": [
    "df = pd.read_csv('winequality-red.csv', sep=';')\n",
    "print(df.head())\n",
    "print(df.info())\n",
    "print(df.describe())"
   ]
  },
  {
   "cell_type": "markdown",
   "metadata": {
    "id": "gcfoOaor9iTB"
   },
   "source": [
    "## Анализ и предобработка данных\n",
    "\n",
    "Обычно после загрузки датасета всегда необходима его некоторая предобработка. В данном случае она будет заключаться в следующем: \n",
    "1. Проверьте есть ли в данных пропущенные значения. Удалите из выборки все объекты с пропусками и дубликаты.\n",
    "2. Выделите 70% выборки для обучения и дальнейшего анализа.\n",
    "3. Проанализируйте признаки и по необходимости предобработайте их. Все шаги предобработки поясните текстом.\n",
    "4. Целевую переменную (ту, которую мы хотим предсказывать) можно выделить в отдельную переменную (НЕ забудьте удалить ее из датасета, когда будете обучать модель)."
   ]
  },
  {
   "cell_type": "code",
   "execution_count": 17,
   "metadata": {
    "id": "3LCu1pI4zan6"
   },
   "outputs": [
    {
     "data": {
      "text/plain": [
       "fixed acidity           0\n",
       "volatile acidity        0\n",
       "citric acid             0\n",
       "residual sugar          0\n",
       "chlorides               0\n",
       "free sulfur dioxide     0\n",
       "total sulfur dioxide    0\n",
       "density                 0\n",
       "pH                      0\n",
       "sulphates               0\n",
       "alcohol                 0\n",
       "quality                 0\n",
       "dtype: int64"
      ]
     },
     "execution_count": 17,
     "metadata": {},
     "output_type": "execute_result"
    }
   ],
   "source": [
    "# Проверим общее количество пропущенных значений по каждому признаку\n",
    "df.isnull().sum()"
   ]
  },
  {
   "cell_type": "code",
   "execution_count": 18,
   "metadata": {},
   "outputs": [
    {
     "name": "stdout",
     "output_type": "stream",
     "text": [
      "Число дубликатов: 240\n",
      "Число дубликатов: 0\n"
     ]
    }
   ],
   "source": [
    "# Проверим количество дубликатов\n",
    "print(\"Число дубликатов:\", df.duplicated().sum())\n",
    "\n",
    "# Удалим дубликаты\n",
    "df_cleaned = df.drop_duplicates()\n",
    "print(\"Число дубликатов:\", df_cleaned.duplicated().sum())"
   ]
  },
  {
   "cell_type": "code",
   "execution_count": 19,
   "metadata": {},
   "outputs": [
    {
     "name": "stdout",
     "output_type": "stream",
     "text": [
      "Финальная форма данных: (1359, 12)\n"
     ]
    }
   ],
   "source": [
    "# Проверим размер финального датафрейма\n",
    "print(\"Финальная форма данных:\", df_cleaned.shape)"
   ]
  },
  {
   "cell_type": "code",
   "execution_count": 20,
   "metadata": {},
   "outputs": [
    {
     "name": "stdout",
     "output_type": "stream",
     "text": [
      "Размер обучающей выборки: (951, 11)\n",
      "Размер тестовой выборки: (408, 11)\n"
     ]
    }
   ],
   "source": [
    "from sklearn.model_selection import train_test_split\n",
    "\n",
    "# 1. Отделим признаки от целевой переменной\n",
    "X = df_cleaned.drop(\"quality\", axis=1)  # Все признаки\n",
    "y = df_cleaned[\"quality\"]               # Целевая переменная\n",
    "\n",
    "# 2. Разделим на train и test выборки (70% на обучение, 30% на тест)\n",
    "X_train, X_test, y_train, y_test = train_test_split(\n",
    "    X, y, test_size=0.3, random_state=42\n",
    ")\n",
    "\n",
    "# Выведем размеры получившихся выборок\n",
    "print(\"Размер обучающей выборки:\", X_train.shape)\n",
    "print(\"Размер тестовой выборки:\", X_test.shape)"
   ]
  },
  {
   "cell_type": "code",
   "execution_count": 21,
   "metadata": {},
   "outputs": [
    {
     "data": {
      "text/plain": [
       "fixed acidity           float64\n",
       "volatile acidity        float64\n",
       "citric acid             float64\n",
       "residual sugar          float64\n",
       "chlorides               float64\n",
       "free sulfur dioxide     float64\n",
       "total sulfur dioxide    float64\n",
       "density                 float64\n",
       "pH                      float64\n",
       "sulphates               float64\n",
       "alcohol                 float64\n",
       "dtype: object"
      ]
     },
     "execution_count": 21,
     "metadata": {},
     "output_type": "execute_result"
    }
   ],
   "source": [
    "# Проверим типы данных\n",
    "X_train.dtypes"
   ]
  },
  {
   "cell_type": "code",
   "execution_count": 22,
   "metadata": {},
   "outputs": [
    {
     "data": {
      "text/html": [
       "<div>\n",
       "<style scoped>\n",
       "    .dataframe tbody tr th:only-of-type {\n",
       "        vertical-align: middle;\n",
       "    }\n",
       "\n",
       "    .dataframe tbody tr th {\n",
       "        vertical-align: top;\n",
       "    }\n",
       "\n",
       "    .dataframe thead th {\n",
       "        text-align: right;\n",
       "    }\n",
       "</style>\n",
       "<table border=\"1\" class=\"dataframe\">\n",
       "  <thead>\n",
       "    <tr style=\"text-align: right;\">\n",
       "      <th></th>\n",
       "      <th>fixed acidity</th>\n",
       "      <th>volatile acidity</th>\n",
       "      <th>citric acid</th>\n",
       "      <th>residual sugar</th>\n",
       "      <th>chlorides</th>\n",
       "      <th>free sulfur dioxide</th>\n",
       "      <th>total sulfur dioxide</th>\n",
       "      <th>density</th>\n",
       "      <th>pH</th>\n",
       "      <th>sulphates</th>\n",
       "      <th>alcohol</th>\n",
       "    </tr>\n",
       "  </thead>\n",
       "  <tbody>\n",
       "    <tr>\n",
       "      <th>count</th>\n",
       "      <td>951.000000</td>\n",
       "      <td>951.000000</td>\n",
       "      <td>951.000000</td>\n",
       "      <td>951.000000</td>\n",
       "      <td>951.000000</td>\n",
       "      <td>951.000000</td>\n",
       "      <td>951.000000</td>\n",
       "      <td>951.000000</td>\n",
       "      <td>951.000000</td>\n",
       "      <td>951.000000</td>\n",
       "      <td>951.000000</td>\n",
       "    </tr>\n",
       "    <tr>\n",
       "      <th>mean</th>\n",
       "      <td>8.307992</td>\n",
       "      <td>0.528517</td>\n",
       "      <td>0.272702</td>\n",
       "      <td>2.486751</td>\n",
       "      <td>0.088570</td>\n",
       "      <td>15.694006</td>\n",
       "      <td>46.842271</td>\n",
       "      <td>0.996700</td>\n",
       "      <td>3.308749</td>\n",
       "      <td>0.656656</td>\n",
       "      <td>10.418191</td>\n",
       "    </tr>\n",
       "    <tr>\n",
       "      <th>std</th>\n",
       "      <td>1.717348</td>\n",
       "      <td>0.176957</td>\n",
       "      <td>0.195434</td>\n",
       "      <td>1.210386</td>\n",
       "      <td>0.049604</td>\n",
       "      <td>10.272675</td>\n",
       "      <td>33.603639</td>\n",
       "      <td>0.001818</td>\n",
       "      <td>0.149464</td>\n",
       "      <td>0.170025</td>\n",
       "      <td>1.083961</td>\n",
       "    </tr>\n",
       "    <tr>\n",
       "      <th>min</th>\n",
       "      <td>4.600000</td>\n",
       "      <td>0.160000</td>\n",
       "      <td>0.000000</td>\n",
       "      <td>0.900000</td>\n",
       "      <td>0.012000</td>\n",
       "      <td>2.000000</td>\n",
       "      <td>6.000000</td>\n",
       "      <td>0.990070</td>\n",
       "      <td>2.860000</td>\n",
       "      <td>0.330000</td>\n",
       "      <td>8.400000</td>\n",
       "    </tr>\n",
       "    <tr>\n",
       "      <th>25%</th>\n",
       "      <td>7.100000</td>\n",
       "      <td>0.400000</td>\n",
       "      <td>0.100000</td>\n",
       "      <td>1.900000</td>\n",
       "      <td>0.070000</td>\n",
       "      <td>7.000000</td>\n",
       "      <td>21.000000</td>\n",
       "      <td>0.995620</td>\n",
       "      <td>3.210000</td>\n",
       "      <td>0.550000</td>\n",
       "      <td>9.500000</td>\n",
       "    </tr>\n",
       "    <tr>\n",
       "      <th>50%</th>\n",
       "      <td>7.900000</td>\n",
       "      <td>0.520000</td>\n",
       "      <td>0.260000</td>\n",
       "      <td>2.200000</td>\n",
       "      <td>0.079000</td>\n",
       "      <td>13.000000</td>\n",
       "      <td>37.000000</td>\n",
       "      <td>0.996740</td>\n",
       "      <td>3.310000</td>\n",
       "      <td>0.620000</td>\n",
       "      <td>10.100000</td>\n",
       "    </tr>\n",
       "    <tr>\n",
       "      <th>75%</th>\n",
       "      <td>9.100000</td>\n",
       "      <td>0.637500</td>\n",
       "      <td>0.420000</td>\n",
       "      <td>2.600000</td>\n",
       "      <td>0.091000</td>\n",
       "      <td>21.000000</td>\n",
       "      <td>64.000000</td>\n",
       "      <td>0.997800</td>\n",
       "      <td>3.400000</td>\n",
       "      <td>0.720000</td>\n",
       "      <td>11.100000</td>\n",
       "    </tr>\n",
       "    <tr>\n",
       "      <th>max</th>\n",
       "      <td>15.900000</td>\n",
       "      <td>1.580000</td>\n",
       "      <td>0.780000</td>\n",
       "      <td>13.900000</td>\n",
       "      <td>0.611000</td>\n",
       "      <td>72.000000</td>\n",
       "      <td>289.000000</td>\n",
       "      <td>1.003200</td>\n",
       "      <td>3.900000</td>\n",
       "      <td>1.980000</td>\n",
       "      <td>14.900000</td>\n",
       "    </tr>\n",
       "  </tbody>\n",
       "</table>\n",
       "</div>"
      ],
      "text/plain": [
       "       fixed acidity  volatile acidity  citric acid  residual sugar  \\\n",
       "count     951.000000        951.000000   951.000000      951.000000   \n",
       "mean        8.307992          0.528517     0.272702        2.486751   \n",
       "std         1.717348          0.176957     0.195434        1.210386   \n",
       "min         4.600000          0.160000     0.000000        0.900000   \n",
       "25%         7.100000          0.400000     0.100000        1.900000   \n",
       "50%         7.900000          0.520000     0.260000        2.200000   \n",
       "75%         9.100000          0.637500     0.420000        2.600000   \n",
       "max        15.900000          1.580000     0.780000       13.900000   \n",
       "\n",
       "        chlorides  free sulfur dioxide  total sulfur dioxide     density  \\\n",
       "count  951.000000           951.000000            951.000000  951.000000   \n",
       "mean     0.088570            15.694006             46.842271    0.996700   \n",
       "std      0.049604            10.272675             33.603639    0.001818   \n",
       "min      0.012000             2.000000              6.000000    0.990070   \n",
       "25%      0.070000             7.000000             21.000000    0.995620   \n",
       "50%      0.079000            13.000000             37.000000    0.996740   \n",
       "75%      0.091000            21.000000             64.000000    0.997800   \n",
       "max      0.611000            72.000000            289.000000    1.003200   \n",
       "\n",
       "               pH   sulphates     alcohol  \n",
       "count  951.000000  951.000000  951.000000  \n",
       "mean     3.308749    0.656656   10.418191  \n",
       "std      0.149464    0.170025    1.083961  \n",
       "min      2.860000    0.330000    8.400000  \n",
       "25%      3.210000    0.550000    9.500000  \n",
       "50%      3.310000    0.620000   10.100000  \n",
       "75%      3.400000    0.720000   11.100000  \n",
       "max      3.900000    1.980000   14.900000  "
      ]
     },
     "execution_count": 22,
     "metadata": {},
     "output_type": "execute_result"
    }
   ],
   "source": [
    "# Описательная статистика\n",
    "X_train.describe()"
   ]
  },
  {
   "cell_type": "markdown",
   "metadata": {},
   "source": [
    "AdaBoost может быть чувствителен, если базовые модели учитывают веса.\n",
    "\n",
    "Чтобы обеспечить стабильность и возможность сравнения, рекомендуется стандартизировать признаки"
   ]
  },
  {
   "cell_type": "code",
   "execution_count": 23,
   "metadata": {},
   "outputs": [],
   "source": [
    "from sklearn.preprocessing import StandardScaler\n",
    "\n",
    "# Инициализация стандартизатора\n",
    "scaler = StandardScaler()\n",
    "\n",
    "# Обучаем стандартизатор на обучающей выборке и применяем его к обучающей и тестовой\n",
    "X_train_scaled = scaler.fit_transform(X_train)\n",
    "X_test_scaled = scaler.transform(X_test)"
   ]
  },
  {
   "cell_type": "markdown",
   "metadata": {
    "id": "FrtBjYwH5BCw"
   },
   "source": [
    "## Обучение модели регрессии\n",
    "\n",
    "Постройте модель регрессии, используя 2 алгоритма:\n",
    "- [DecisonTree](https://scikit-learn.org/stable/modules/generated/sklearn.tree.DecisionTreeRegressor.html)\n",
    "- [AdaBoostRegressor](https://scikit-learn.org/stable/modules/generated/sklearn.ensemble.AdaBoostRegressor.html#sklearn.ensemble.AdaBoostRegressor)\n",
    "\n",
    "Для начала используйте гиперпараметры по умолчанию.\n",
    "\n",
    "Рассчитайте среднее качество кросс-валидации модели как долю дисперсии зависимой переменной (коэффициент детерминации) $R^2$. Каким получилось качество? Какой алгоритм вы бы выбрали для дальнейшей работы? Обоснуйте свой выбор."
   ]
  },
  {
   "cell_type": "code",
   "execution_count": 24,
   "metadata": {
    "id": "f5iHnCUlVywE"
   },
   "outputs": [],
   "source": [
    "from sklearn.tree import DecisionTreeRegressor\n",
    "from sklearn.ensemble import AdaBoostRegressor\n",
    "from sklearn.model_selection import cross_val_score\n",
    "\n",
    "\n"
   ]
  },
  {
   "cell_type": "code",
   "execution_count": 25,
   "metadata": {},
   "outputs": [
    {
     "name": "stdout",
     "output_type": "stream",
     "text": [
      "Decision Tree R² (среднее по кросс-валидации): -0.2161\n",
      "AdaBoost R² (среднее по кросс-валидации): 0.3283\n"
     ]
    }
   ],
   "source": [
    "# Decision Tree\n",
    "tree_model = DecisionTreeRegressor(random_state=42)\n",
    "tree_scores = cross_val_score(tree_model, X_train_scaled, y_train, cv=5, scoring='r2')\n",
    "\n",
    "# AdaBoost\n",
    "boost_model = AdaBoostRegressor(random_state=42)\n",
    "boost_scores = cross_val_score(boost_model, X_train_scaled, y_train, cv=5, scoring='r2')\n",
    "\n",
    "# Выводим результаты\n",
    "print(\"Decision Tree R² (среднее по кросс-валидации):\", np.mean(tree_scores).round(4))\n",
    "print(\"AdaBoost R² (среднее по кросс-валидации):\", np.mean(boost_scores).round(4))"
   ]
  },
  {
   "cell_type": "markdown",
   "metadata": {},
   "source": [
    "### Decision Tree \n",
    "показал отрицательное R², а это значит, что он непредсказуемо переобучился — в каждой части кросс-валидации он давал крайне нестабильные прогнозы. Это типично для “глубоких” деревьев без ограничений по глубине.\n",
    "\n",
    "### AdaBoost \n",
    "показал R² ≈ 0.33, что говорит о некотором уровне объяснённой дисперсии. Это уже базовый уровень, от которого можно отталкиваться, пробуя:\n",
    "\t•\tподбор гиперпараметров,\n",
    "\t•\tотбор признаков,\n",
    "\t•\tпостроение новых признаков (feature engineering),\n",
    "\t•\tиспользование более мощных ансамблей (например, GradientBoosting или XGBoost).\n",
    "\n",
    "⸻\n",
    "\n",
    "### Выбор модели: AdaBoostRegressor\n",
    "\n",
    "Почему:\n",
    "\t•\tБолее стабильная\n",
    "\t•\tЛучше обобщает\n",
    "\t•\tНе переобучается\n",
    "\t•\tИмеет потенциал для улучшения через настройку параметров"
   ]
  },
  {
   "cell_type": "markdown",
   "metadata": {
    "id": "oW7goeqD_379"
   },
   "source": [
    "Теперь сделаем подбор оптимальных гиперпараметров. Сделайте поиск по сетке с помощью кросс-валидации. Изменилось ли качество алгоритмов? Почему?"
   ]
  },
  {
   "cell_type": "code",
   "execution_count": 26,
   "metadata": {
    "id": "APjbMArMDIGO"
   },
   "outputs": [
    {
     "name": "stdout",
     "output_type": "stream",
     "text": [
      "Лучшая модель: AdaBoostRegressor(estimator=DecisionTreeRegressor(max_depth=5, random_state=42),\n",
      "                  learning_rate=0.1, n_estimators=200, random_state=42)\n",
      "Лучшие параметры: {'estimator__max_depth': 5, 'learning_rate': 0.1, 'n_estimators': 200}\n",
      "Лучшее среднее R²: 0.3459\n"
     ]
    }
   ],
   "source": [
    "from sklearn.model_selection import GridSearchCV\n",
    "\n",
    "\n",
    "# Базовая модель — дерево решений\n",
    "base_estimator = DecisionTreeRegressor(random_state=42)\n",
    "\n",
    "# AdaBoost с кастомным регрессором\n",
    "ada = AdaBoostRegressor(estimator=base_estimator, random_state=42)\n",
    "\n",
    "# Сетка параметров \n",
    "param_grid = {\n",
    "    \"n_estimators\": [50, 100, 200],\n",
    "    \"learning_rate\": [0.01, 0.1, 1],\n",
    "    \"estimator__max_depth\": [1, 3, 5]\n",
    "}\n",
    "\n",
    "# Поиск по сетке с кросс-валидацией\n",
    "grid_search = GridSearchCV(ada, param_grid, cv=5, scoring=\"r2\", n_jobs=-1)\n",
    "grid_search.fit(X_train_scaled, y_train)\n",
    "\n",
    "# Результаты\n",
    "print(\"Лучшая модель:\", grid_search.best_estimator_)\n",
    "print(\"Лучшие параметры:\", grid_search.best_params_)\n",
    "print(\"Лучшее среднее R²:\", round(grid_search.best_score_, 4))"
   ]
  },
  {
   "cell_type": "markdown",
   "metadata": {},
   "source": [
    "## Почему качество улучшилось?\n",
    "#### Увеличение количества слабых моделей (n_estimators=200) позволяет покрыть больше паттернов.\n",
    "#### Более глубокие деревья (max_depth=5) дают возможность обучаться на более сложных зависимостях.\n",
    "#### Низкий learning_rate=0.1 снижает переобучение, делая ансамбль более “медленным, но точным”."
   ]
  },
  {
   "cell_type": "markdown",
   "metadata": {
    "id": "a-CvcOpONO_B"
   },
   "source": [
    "Оцените скорость обучения каждого из алгоритмов. Для этого воспользуйтесь графиком вида \"ящик с усами\", который отражает среднее время обучения алгоритма при фиксированном значении гиперпараметров. Что вы можете сказать о скорости работы алгоритмов? Почему наблюдаются такие результаты? Можно ли ускорить? Если да, то каким образом?"
   ]
  },
  {
   "cell_type": "code",
   "execution_count": 27,
   "metadata": {
    "id": "cLqBnzHtJOLl"
   },
   "outputs": [
    {
     "data": {
      "image/png": "[encoded data removed]",
      "text/plain": [
       "<Figure size 1000x600 with 1 Axes>"
      ]
     },
     "metadata": {},
     "output_type": "display_data"
    }
   ],
   "source": [
    "import matplotlib.pyplot as plt\n",
    "import seaborn as sns\n",
    "from sklearn.model_selection import cross_validate\n",
    "\n",
    "\n",
    "# Модель 1: Decision Tree (с фиксированными гиперпараметрами)\n",
    "tree_model = DecisionTreeRegressor(max_depth=5, random_state=42)\n",
    "\n",
    "# Модель 2: AdaBoost (с подобранными ранее гиперпараметрами)\n",
    "ada_model = AdaBoostRegressor(\n",
    "    estimator=DecisionTreeRegressor(max_depth=5, random_state=42),\n",
    "    n_estimators=200,\n",
    "    learning_rate=0.1,\n",
    "    random_state=42\n",
    ")\n",
    "\n",
    "# Кросс-валидация с замером времени\n",
    "tree_cv = cross_validate(tree_model, X_train_scaled, y_train, cv=5, scoring='r2', return_train_score=False)\n",
    "ada_cv = cross_validate(ada_model, X_train_scaled, y_train, cv=5, scoring='r2', return_train_score=False)\n",
    "\n",
    "# Подготовим данные для визуализации\n",
    "times = {\n",
    "    \"Decision Tree\": tree_cv['fit_time'],\n",
    "    \"AdaBoost\": ada_cv['fit_time']\n",
    "}\n",
    "\n",
    "# Построим график\n",
    "plt.figure(figsize=(10, 6))\n",
    "sns.boxplot(data=pd.DataFrame(times))\n",
    "plt.ylabel(\"Время обучения (сек)\")\n",
    "plt.title(\"Сравнение времени обучения моделей\")\n",
    "plt.grid(True)\n",
    "plt.show()"
   ]
  },
  {
   "cell_type": "markdown",
   "metadata": {},
   "source": [
    "На графике видно, что модель Decision Tree обучается практически мгновенно — время обучения составляет доли секунды. Это ожидаемо, потому что модель строит всего одно дерево с заданной глубиной, и не требует повторных итераций. Она очень лёгкая и быстрая в обучении.\n",
    "\n",
    "С другой стороны, AdaBoostRegressor обучается значительно дольше — в среднем около 0.35–0.4 секунд на один фолд кросс-валидации. Это вполне разумное время, если учесть, что модель обучает 200 деревьев последовательно. Кроме того, на графике видно, что время довольно стабильное, но присутствует один выброс — возможно, это связано с фоновыми процессами или всплеском загрузки процессора.\n",
    "\n",
    "Причина такой разницы во времени заключается в устройстве моделей. DecisionTreeRegressor — это простая модель, которая обучается один раз на всем наборе данных. А вот AdaBoostRegressor работает итеративно: он обучает множество слабых моделей (обычно деревьев), и каждый следующий шаг зависит от ошибок предыдущих, поэтому обучение нельзя легко распараллелить. Это делает алгоритм более затратным по времени."
   ]
  },
  {
   "cell_type": "markdown",
   "metadata": {},
   "source": [
    "#### Можно ли ускорить AdaBoost?\n",
    "\n",
    "Да, и вот как это можно сделать:\n",
    "\t1.\tУменьшить количество деревьев (n_estimators). Например, уменьшив с 200 до 100, мы почти вдвое сократим время обучения.\n",
    "\t2.\tСнизить глубину деревьев (max_depth), чтобы каждая отдельная модель обучалась быстрее.\n",
    "\t3.\tПерейти на более быстрые реализации, такие как XGBoost или LightGBM, которые оптимизированы и обучаются в разы быстрее на тех же данных.\n",
    "\t4.\tСнизить размерность данных, например, исключить наименее важные признаки, чтобы обучение происходило на меньшем объёме информации.\n",
    "\n"
   ]
  },
  {
   "cell_type": "markdown",
   "metadata": {},
   "source": [
    "#### Вывод\n",
    "\n",
    "Хотя AdaBoost обучается дольше, чем DecisionTree, прирост в качестве модели это оправдывает. Особенно на небольших датасетах, как в случае с предсказанием качества вина, время обучения в пределах долей секунды вполне приемлемо. Если в будущем планируется работа с большими объёмами данных, имеет смысл рассмотреть более быстрые алгоритмы или оптимизацию текущего подхода."
   ]
  },
  {
   "cell_type": "markdown",
   "metadata": {
    "id": "ydm4FqI54F96"
   },
   "source": [
    "## PCA преобразование\n",
    "\n",
    "Теперь попробуем сделать преобразрование данных с помощью PCA. Выберите оптимальное количество компонент и преобразуйте данные. Объясните свой выбор."
   ]
  },
  {
   "cell_type": "code",
   "execution_count": 28,
   "metadata": {
    "id": "n5yl5I3jRJzn"
   },
   "outputs": [
    {
     "data": {
      "image/png": "[encoded data removed]",
      "text/plain": [
       "<Figure size 1000x600 with 1 Axes>"
      ]
     },
     "metadata": {},
     "output_type": "display_data"
    }
   ],
   "source": [
    "from sklearn.decomposition import PCA\n",
    "\n",
    "\n",
    "\n",
    "# Инициализируем PCA без ограничения по числу компонент\n",
    "pca = PCA()\n",
    "pca.fit(X_train_scaled)\n",
    "\n",
    "# Получим долю объяснённой дисперсии каждой компонентой\n",
    "explained_variance_ratio = pca.explained_variance_ratio_\n",
    "cumulative_variance = np.cumsum(explained_variance_ratio)\n",
    "\n",
    "# Построим график накопленной дисперсии\n",
    "plt.figure(figsize=(10, 6))\n",
    "plt.plot(range(1, len(cumulative_variance) + 1), cumulative_variance, marker='o')\n",
    "plt.axhline(y=0.95, color='r', linestyle='--', label=\"95% дисперсии\")\n",
    "plt.title(\"Накопленная объяснённая дисперсия от количества компонент PCA\")\n",
    "plt.xlabel(\"Количество компонент\")\n",
    "plt.ylabel(\"Накопленная доля дисперсии\")\n",
    "plt.grid(True)\n",
    "plt.legend()\n",
    "plt.show()"
   ]
  },
  {
   "cell_type": "markdown",
   "metadata": {},
   "source": [
    "Из графика видно, что:\n",
    "\t•\tПри 8 компонентах достигается примерно 95% объяснённой дисперсии.\n",
    "\t•\tПосле 8 компонент кривая выходит на плато — прирост информации становится незначительным.\n",
    "\t•\tЗначит, 8 компонент — оптимальное количество, при котором мы сохраняем почти всю важную информацию, но при этом уменьшаем размерность с 11 до 8.\n",
    "\n",
    "Мы выбираем 8 компонент для PCA-преобразования, потому что:\n",
    "\t•\tЭто позволяет сохранить баланс между размерностью и точностью.\n",
    "\t•\tМы сохраняем 95% всей информации, содержащейся в признаках.\n",
    "\t•\tЭто может уменьшить переобучение и ускорить обучение моделей, особенно ансамблевых.\n",
    "\t•\tПосле 8 компонент информация добавляется очень незначительно, а сложность модели растёт."
   ]
  },
  {
   "cell_type": "markdown",
   "metadata": {
    "id": "S6B1nbVu6ekT"
   },
   "source": [
    "## Обучение моделей на данных, трансформированных с помощью PCA\n",
    "\n",
    "Обучим те же классификаторы на трансформированных с помощью PCA данных. Подберите оптимальные значения исследуемых гиперпараметров для новых данных. Какой алгоритм справился лучше? Какой быстрее? Почему?"
   ]
  },
  {
   "cell_type": "code",
   "execution_count": 29,
   "metadata": {
    "id": "6pXGu0ZOyZjV"
   },
   "outputs": [
    {
     "name": "stdout",
     "output_type": "stream",
     "text": [
      "Decision Tree R²: 0.2094\n",
      "Лучшие параметры: {'max_depth': 3, 'min_samples_split': 2}\n",
      "AdaBoost R²: 0.3179\n",
      "Лучшие параметры: {'estimator__max_depth': 5, 'learning_rate': 0.1, 'n_estimators': 50}\n"
     ]
    }
   ],
   "source": [
    "# Инициализируем и применим PCA с 8 компонентами\n",
    "pca_final = PCA(n_components=8)\n",
    "X_train_pca = pca_final.fit_transform(X_train_scaled)\n",
    "X_test_pca = pca_final.transform(X_test_scaled)\n",
    "\n",
    "tree = DecisionTreeRegressor(random_state=42)\n",
    "\n",
    "# Сетка параметров\n",
    "param_grid_tree = {\n",
    "    'max_depth': [3, 5, 7, 10],\n",
    "    'min_samples_split': [2, 5, 10]\n",
    "}\n",
    "\n",
    "# GridSearchCV\n",
    "grid_tree = GridSearchCV(tree, param_grid_tree, cv=5, scoring='r2', n_jobs=-1)\n",
    "grid_tree.fit(X_train_pca, y_train)\n",
    "\n",
    "# Результаты\n",
    "print(\"Decision Tree R²:\", round(grid_tree.best_score_, 4))\n",
    "print(\"Лучшие параметры:\", grid_tree.best_params_)\n",
    "\n",
    "\n",
    "\n",
    "base_tree = DecisionTreeRegressor(random_state=42)\n",
    "ada = AdaBoostRegressor(estimator=base_tree, random_state=42)\n",
    "\n",
    "param_grid_ada = {\n",
    "    'n_estimators': [50, 100, 200],\n",
    "    'learning_rate': [0.01, 0.1, 1],\n",
    "    'estimator__max_depth': [3, 5]\n",
    "}\n",
    "\n",
    "grid_ada = GridSearchCV(ada, param_grid_ada, cv=5, scoring='r2', n_jobs=-1)\n",
    "grid_ada.fit(X_train_pca, y_train)\n",
    "\n",
    "print(\"AdaBoost R²:\", round(grid_ada.best_score_, 4))\n",
    "print(\"Лучшие параметры:\", grid_ada.best_params_)"
   ]
  },
  {
   "cell_type": "markdown",
   "metadata": {
    "id": "V6SPsE847Ejl"
   },
   "source": [
    "## Сравнение результатов\n",
    "\n",
    "Сравните результаты полученные до трансформации данных с помощью PCA и после. Для этого воспользуйтесь \"ящиком с усами\" (boxplot).\n",
    "\n",
    "Сделайте общие итоговые выводы о моделях регрессии с точки зрения их работы с признаками и сложности самой модели (какие гиперпараметры есть у модели, сильно ли изменение значения гиперпараметра влияет на качество модели)."
   ]
  },
  {
   "cell_type": "markdown",
   "metadata": {},
   "source": [
    "#### До PCA:\n",
    "DecisionTree R²: −0.2161 (перенастроенный с max_depth=5 дал чуть лучше)\n",
    "AdaBoost R²: 0.3459 (после подбора гиперпараметров)\n",
    "\n",
    "##### После PCA:\n",
    "DecisionTree R²: 0.2094\n",
    "AdaBoost R²: 0.3179\n",
    "\n",
    "##### Вывод:\n",
    "Качество AdaBoost немного снизилось после PCA (0.3459 - 0.3179), что логично, так как PCA может терять немного информации.\n",
    "Зато DecisionTree сильно улучшился (−0.21 - 0.21), что говорит о том, что PCA помог устранить переобучение и шум."
   ]
  },
  {
   "cell_type": "code",
   "execution_count": 30,
   "metadata": {
    "id": "V8dBsq4qilOp"
   },
   "outputs": [
    {
     "data": {
      "image/png": "[encoded data removed]",
      "text/plain": [
       "<Figure size 1200x600 with 1 Axes>"
      ]
     },
     "metadata": {},
     "output_type": "display_data"
    }
   ],
   "source": [
    "# Кросс-валидация лучшего дерева на PCA-преобразованных данных\n",
    "tree_cv_pca = cross_validate(grid_tree.best_estimator_, X_train_pca, y_train, cv=5, scoring='r2')\n",
    "\n",
    "# Кросс-валидация лучшего AdaBoost на PCA-преобразованных данных\n",
    "ada_cv_pca = cross_validate(grid_ada.best_estimator_, X_train_pca, y_train, cv=5, scoring='r2') \n",
    "\n",
    "r2_data = pd.DataFrame({\n",
    "    \"Decision Tree (до PCA)\": tree_cv['test_score'],\n",
    "    \"AdaBoost (до PCA)\": ada_cv['test_score'],\n",
    "    \"Decision Tree (после PCA)\": tree_cv_pca['test_score'],\n",
    "    \"AdaBoost (после PCA)\": ada_cv_pca['test_score']\n",
    "})\n",
    "\n",
    "# Построим ящик с усами\n",
    "plt.figure(figsize=(12, 6))\n",
    "sns.boxplot(data=r2_data)\n",
    "plt.title(\"Сравнение качества моделей (R²) до и после PCA\")\n",
    "plt.ylabel(\"R² (коэффициент детерминации)\")\n",
    "plt.grid(True)\n",
    "plt.show()"
   ]
  },
  {
   "cell_type": "markdown",
   "metadata": {
    "id": "zUwFUddE9hGS"
   },
   "source": [
    "## Тестирование всех модели\n",
    "\n",
    "Протестируйте все построенные модели (в т.ч. с и без PCA трансформации) на данных, которые были отложены для теста (их должно было остаться 30%). Не забудьте про все необходимые преобразования."
   ]
  },
  {
   "cell_type": "code",
   "execution_count": 31,
   "metadata": {
    "id": "aClWETCs9wgS"
   },
   "outputs": [
    {
     "data": {
      "text/html": [
       "<div>\n",
       "<style scoped>\n",
       "    .dataframe tbody tr th:only-of-type {\n",
       "        vertical-align: middle;\n",
       "    }\n",
       "\n",
       "    .dataframe tbody tr th {\n",
       "        vertical-align: top;\n",
       "    }\n",
       "\n",
       "    .dataframe thead th {\n",
       "        text-align: right;\n",
       "    }\n",
       "</style>\n",
       "<table border=\"1\" class=\"dataframe\">\n",
       "  <thead>\n",
       "    <tr style=\"text-align: right;\">\n",
       "      <th></th>\n",
       "      <th>Модель</th>\n",
       "      <th>R²</th>\n",
       "      <th>MAE</th>\n",
       "      <th>RMSE</th>\n",
       "    </tr>\n",
       "  </thead>\n",
       "  <tbody>\n",
       "    <tr>\n",
       "      <th>0</th>\n",
       "      <td>Decision Tree (до PCA)</td>\n",
       "      <td>0.2755</td>\n",
       "      <td>0.5273</td>\n",
       "      <td>0.7002</td>\n",
       "    </tr>\n",
       "    <tr>\n",
       "      <th>1</th>\n",
       "      <td>AdaBoost (до PCA)</td>\n",
       "      <td>0.4536</td>\n",
       "      <td>0.4798</td>\n",
       "      <td>0.6081</td>\n",
       "    </tr>\n",
       "    <tr>\n",
       "      <th>2</th>\n",
       "      <td>Decision Tree (после PCA)</td>\n",
       "      <td>0.2676</td>\n",
       "      <td>0.5759</td>\n",
       "      <td>0.7040</td>\n",
       "    </tr>\n",
       "    <tr>\n",
       "      <th>3</th>\n",
       "      <td>AdaBoost (после PCA)</td>\n",
       "      <td>0.4010</td>\n",
       "      <td>0.5116</td>\n",
       "      <td>0.6367</td>\n",
       "    </tr>\n",
       "  </tbody>\n",
       "</table>\n",
       "</div>"
      ],
      "text/plain": [
       "                      Модель      R²     MAE    RMSE\n",
       "0     Decision Tree (до PCA)  0.2755  0.5273  0.7002\n",
       "1          AdaBoost (до PCA)  0.4536  0.4798  0.6081\n",
       "2  Decision Tree (после PCA)  0.2676  0.5759  0.7040\n",
       "3       AdaBoost (после PCA)  0.4010  0.5116  0.6367"
      ]
     },
     "metadata": {},
     "output_type": "display_data"
    }
   ],
   "source": [
    "from sklearn.metrics import r2_score, mean_absolute_error, mean_squared_error\n",
    "\n",
    "# Decision Tree на исходных данных (11 признаков)\n",
    "tree_orig = DecisionTreeRegressor(max_depth=3, min_samples_split=2, random_state=42)\n",
    "tree_orig.fit(X_train_scaled, y_train)\n",
    "\n",
    "# AdaBoost на исходных данных\n",
    "ada_orig = AdaBoostRegressor(\n",
    "    estimator=DecisionTreeRegressor(max_depth=5, random_state=42),\n",
    "    n_estimators=200,\n",
    "    learning_rate=0.1,\n",
    "    random_state=42\n",
    ")\n",
    "ada_orig.fit(X_train_scaled, y_train)\n",
    "\n",
    "# Decision Tree на PCA-преобразованных данных (8 признаков)\n",
    "tree_pca = DecisionTreeRegressor(max_depth=3, min_samples_split=2, random_state=42)\n",
    "tree_pca.fit(X_train_pca, y_train)\n",
    "\n",
    "# AdaBoost на PCA-преобразованных данных\n",
    "ada_pca = AdaBoostRegressor(\n",
    "    estimator=DecisionTreeRegressor(max_depth=5, random_state=42),\n",
    "    n_estimators=50,\n",
    "    learning_rate=0.1,\n",
    "    random_state=42\n",
    ")\n",
    "ada_pca.fit(X_train_pca, y_train)\n",
    "\n",
    "# Предсказания\n",
    "models_test = {\n",
    "    \"Decision Tree (до PCA)\": (tree_orig, X_test_scaled),\n",
    "    \"AdaBoost (до PCA)\": (ada_orig, X_test_scaled),\n",
    "    \"Decision Tree (после PCA)\": (tree_pca, X_test_pca),\n",
    "    \"AdaBoost (после PCA)\": (ada_pca, X_test_pca),\n",
    "}\n",
    "\n",
    "# Сбор метрик\n",
    "results_test = []\n",
    "\n",
    "for name, (model, X_t) in models_test.items():\n",
    "    y_pred = model.predict(X_t)\n",
    "    results_test.append({\n",
    "    \"Модель\": name,\n",
    "    \"R²\": round(r2_score(y_test, y_pred), 4),\n",
    "    \"MAE\": round(mean_absolute_error(y_test, y_pred), 4),\n",
    "    \"RMSE\": round(np.sqrt(mean_squared_error(y_test, y_pred)), 4)\n",
    "\n",
    "    })\n",
    "\n",
    "# Таблица\n",
    "display(pd.DataFrame(results_test))"
   ]
  },
  {
   "cell_type": "markdown",
   "metadata": {},
   "source": [
    "#### Почему DecisionTreeRegressor показывает другое значение?\n",
    "\n",
    "#### 1. Изначальное значение -0.2161\n",
    "\n",
    "Это был результат кросс-валидации (cross_val_score) на обучающих данных.\n",
    "Кросс-валидация делит обучающую выборку на куски и оценивает устойчивость модели. Она может быть строже, особенно если модель нестабильна (как дерево без настройки).\n",
    "\n",
    "#### 2. Новое значение 0.275\n",
    "\n",
    "Это результат на тестовой выборке, которая:\n",
    "\t•\tНе использовалась в обучении,\n",
    "\t•\tУже масштабирована,\n",
    "\t•\tМодель уже подобрана по гиперпараметрам (max_depth=3, min_samples_split=2)."
   ]
  }
 ],
 "metadata": {
  "anaconda-cloud": {},
  "colab": {
   "collapsed_sections": [
    "-rX8cvHCzany"
   ],
   "provenance": []
  },
  "kernelspec": {
   "display_name": "Python 3",
   "language": "python",
   "name": "python3"
  },
  "language_info": {
   "codemirror_mode": {
    "name": "ipython",
    "version": 3
   },
   "file_extension": ".py",
   "mimetype": "text/x-python",
   "name": "python",
   "nbconvert_exporter": "python",
   "pygments_lexer": "ipython3",
   "version": "3.13.2"
  }
 },
 "nbformat": 4,
 "nbformat_minor": 0
}
