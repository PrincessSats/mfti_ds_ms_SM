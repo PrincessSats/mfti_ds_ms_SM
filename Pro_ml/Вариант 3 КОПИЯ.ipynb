{
 "cells": [
  {
   "cell_type": "markdown",
   "metadata": {
    "id": "-rX8cvHCzany"
   },
   "source": [
    "# Задача\n",
    "В этой работе вам предлагается решить задачу регрессии, а именно построить алгоритм, определяющий качество вина на основе физико-химических тестов:\n",
    " - fixed acidity\n",
    " - volatile acidity\n",
    " - citric acid\n",
    " - residual sugar\n",
    " - chlorides\n",
    " - free sulfur dioxide\n",
    " - total sulfur dioxide\n",
    " - density\n",
    " - pH\n",
    " - sulphates\n",
    " - alcohol \n",
    " \n",
    "Более подробно про признаки можно почитать [здесь](https://archive.ics.uci.edu/ml/datasets/wine+quality). Целевой признак записан в переменной *quality*.\n",
    "\n",
    "В этой задаче для обучения будут использовать 2 алгоритма:\n",
    "- [DecisonTree](https://scikit-learn.org/stable/modules/generated/sklearn.tree.DecisionTreeRegressor.html)\n",
    "- [AdaBoostRegressor](https://scikit-learn.org/stable/modules/generated/sklearn.ensemble.AdaBoostRegressor.html#sklearn.ensemble.AdaBoostRegressor)"
   ]
  },
  {
   "cell_type": "markdown",
   "metadata": {
    "id": "yKvOO2LGzan3"
   },
   "source": [
    "# Решение"
   ]
  },
  {
   "cell_type": "markdown",
   "metadata": {
    "id": "MrewBnQJibsR"
   },
   "source": [
    "Загрузите набор данных *winequality-red.csv* с помощью `pandas` (скачать можно [здесь](https://archive.ics.uci.edu/ml/machine-learning-databases/wine-quality/winequality-red.csv), или с помощью скрипта ниже). Чтобы лучше понимать, с чем вы работаете/корректно ли вы загрузили данные можно вывести несколько первых строк на экран."
   ]
  },
  {
   "cell_type": "code",
   "execution_count": 1,
   "metadata": {
    "id": "So-LVYjsibsU"
   },
   "outputs": [
    {
     "data": {
      "text/html": [
       "<div>\n",
       "<style scoped>\n",
       "    .dataframe tbody tr th:only-of-type {\n",
       "        vertical-align: middle;\n",
       "    }\n",
       "\n",
       "    .dataframe tbody tr th {\n",
       "        vertical-align: top;\n",
       "    }\n",
       "\n",
       "    .dataframe thead th {\n",
       "        text-align: right;\n",
       "    }\n",
       "</style>\n",
       "<table border=\"1\" class=\"dataframe\">\n",
       "  <thead>\n",
       "    <tr style=\"text-align: right;\">\n",
       "      <th></th>\n",
       "      <th>fixed acidity</th>\n",
       "      <th>volatile acidity</th>\n",
       "      <th>citric acid</th>\n",
       "      <th>residual sugar</th>\n",
       "      <th>chlorides</th>\n",
       "      <th>free sulfur dioxide</th>\n",
       "      <th>total sulfur dioxide</th>\n",
       "      <th>density</th>\n",
       "      <th>pH</th>\n",
       "      <th>sulphates</th>\n",
       "      <th>alcohol</th>\n",
       "      <th>quality</th>\n",
       "    </tr>\n",
       "  </thead>\n",
       "  <tbody>\n",
       "    <tr>\n",
       "      <th>0</th>\n",
       "      <td>7.4</td>\n",
       "      <td>0.70</td>\n",
       "      <td>0.00</td>\n",
       "      <td>1.9</td>\n",
       "      <td>0.076</td>\n",
       "      <td>11.0</td>\n",
       "      <td>34.0</td>\n",
       "      <td>0.9978</td>\n",
       "      <td>3.51</td>\n",
       "      <td>0.56</td>\n",
       "      <td>9.4</td>\n",
       "      <td>5</td>\n",
       "    </tr>\n",
       "    <tr>\n",
       "      <th>1</th>\n",
       "      <td>7.8</td>\n",
       "      <td>0.88</td>\n",
       "      <td>0.00</td>\n",
       "      <td>2.6</td>\n",
       "      <td>0.098</td>\n",
       "      <td>25.0</td>\n",
       "      <td>67.0</td>\n",
       "      <td>0.9968</td>\n",
       "      <td>3.20</td>\n",
       "      <td>0.68</td>\n",
       "      <td>9.8</td>\n",
       "      <td>5</td>\n",
       "    </tr>\n",
       "    <tr>\n",
       "      <th>2</th>\n",
       "      <td>7.8</td>\n",
       "      <td>0.76</td>\n",
       "      <td>0.04</td>\n",
       "      <td>2.3</td>\n",
       "      <td>0.092</td>\n",
       "      <td>15.0</td>\n",
       "      <td>54.0</td>\n",
       "      <td>0.9970</td>\n",
       "      <td>3.26</td>\n",
       "      <td>0.65</td>\n",
       "      <td>9.8</td>\n",
       "      <td>5</td>\n",
       "    </tr>\n",
       "    <tr>\n",
       "      <th>3</th>\n",
       "      <td>11.2</td>\n",
       "      <td>0.28</td>\n",
       "      <td>0.56</td>\n",
       "      <td>1.9</td>\n",
       "      <td>0.075</td>\n",
       "      <td>17.0</td>\n",
       "      <td>60.0</td>\n",
       "      <td>0.9980</td>\n",
       "      <td>3.16</td>\n",
       "      <td>0.58</td>\n",
       "      <td>9.8</td>\n",
       "      <td>6</td>\n",
       "    </tr>\n",
       "    <tr>\n",
       "      <th>4</th>\n",
       "      <td>7.4</td>\n",
       "      <td>0.70</td>\n",
       "      <td>0.00</td>\n",
       "      <td>1.9</td>\n",
       "      <td>0.076</td>\n",
       "      <td>11.0</td>\n",
       "      <td>34.0</td>\n",
       "      <td>0.9978</td>\n",
       "      <td>3.51</td>\n",
       "      <td>0.56</td>\n",
       "      <td>9.4</td>\n",
       "      <td>5</td>\n",
       "    </tr>\n",
       "  </tbody>\n",
       "</table>\n",
       "</div>"
      ],
      "text/plain": [
       "   fixed acidity  volatile acidity  citric acid  residual sugar  chlorides  \\\n",
       "0            7.4              0.70         0.00             1.9      0.076   \n",
       "1            7.8              0.88         0.00             2.6      0.098   \n",
       "2            7.8              0.76         0.04             2.3      0.092   \n",
       "3           11.2              0.28         0.56             1.9      0.075   \n",
       "4            7.4              0.70         0.00             1.9      0.076   \n",
       "\n",
       "   free sulfur dioxide  total sulfur dioxide  density    pH  sulphates  \\\n",
       "0                 11.0                  34.0   0.9978  3.51       0.56   \n",
       "1                 25.0                  67.0   0.9968  3.20       0.68   \n",
       "2                 15.0                  54.0   0.9970  3.26       0.65   \n",
       "3                 17.0                  60.0   0.9980  3.16       0.58   \n",
       "4                 11.0                  34.0   0.9978  3.51       0.56   \n",
       "\n",
       "   alcohol  quality  \n",
       "0      9.4        5  \n",
       "1      9.8        5  \n",
       "2      9.8        5  \n",
       "3      9.8        6  \n",
       "4      9.4        5  "
      ]
     },
     "execution_count": 1,
     "metadata": {},
     "output_type": "execute_result"
    }
   ],
   "source": [
    "# !wget https://archive.ics.uci.edu/ml/machine-learning-databases/wine-quality/winequality-red.csv\n",
    "# your code here\n",
    "import numpy as np\n",
    "import pandas as pd\n",
    "from sklearn.model_selection import train_test_split, cross_val_score, GridSearchCV\n",
    "from sklearn.preprocessing import StandardScaler\n",
    "from sklearn.tree import DecisionTreeRegressor\n",
    "from sklearn.ensemble import AdaBoostRegressor\n",
    "\n",
    "df = pd.read_csv('winequality-red.csv', sep=';')\n",
    "df.head()"
   ]
  },
  {
   "cell_type": "markdown",
   "metadata": {
    "id": "gcfoOaor9iTB"
   },
   "source": [
    "## Анализ и предобработка данных\n",
    "\n",
    "Обычно после загрузки датасета всегда необходима его некоторая предобработка. В данном случае она будет заключаться в следующем: \n",
    "1. Проверьте есть ли в данных пропущенные значения. Удалите из выборки все объекты с пропусками и дубликаты.\n",
    "2. Выделите 70% выборки для обучения и дальнейшего анализа.\n",
    "3. Проанализируйте признаки и по необходимости предобработайте их. Все шаги предобработки поясните текстом.\n",
    "4. Целевую переменную (ту, которую мы хотим предсказывать) можно выделить в отдельную переменную (НЕ забудьте удалить ее из датасета, когда будете обучать модель)."
   ]
  },
  {
   "cell_type": "code",
   "execution_count": 4,
   "metadata": {
    "id": "3LCu1pI4zan6"
   },
   "outputs": [
    {
     "name": "stdout",
     "output_type": "stream",
     "text": [
      "Размер данных до удаления пропусков и дубликатов: (1599, 12)\n",
      "Пропущенные значения:\n",
      " fixed acidity           0\n",
      "volatile acidity        0\n",
      "citric acid             0\n",
      "residual sugar          0\n",
      "chlorides               0\n",
      "free sulfur dioxide     0\n",
      "total sulfur dioxide    0\n",
      "density                 0\n",
      "pH                      0\n",
      "sulphates               0\n",
      "alcohol                 0\n",
      "quality                 0\n",
      "dtype: int64\n",
      "Дубликаты:\n",
      " 240\n",
      "Размер данных после удаления пропусков и дубликатов: (1359, 12)\n"
     ]
    }
   ],
   "source": [
    "# your code here\n",
    "print(f'Размер данных до удаления пропусков и дубликатов: {df.shape}')\n",
    "\n",
    "# Проверка на пропущенные значения и дубликаты\n",
    "print(f'Пропущенные значения:\\n {df.isnull().sum()}')\n",
    "print(f'Дубликаты:\\n {df.duplicated().sum()}')\n",
    "\n",
    "# При проверке выяснили, что пропущенных значений нет, но есть дубликаты. Удаляем дубликаты\n",
    "df = df.drop_duplicates()\n",
    "\n",
    "print(f'Размер данных после удаления пропусков и дубликатов: {df.shape}')"
   ]
  },
  {
   "cell_type": "code",
   "execution_count": 6,
   "metadata": {},
   "outputs": [
    {
     "name": "stdout",
     "output_type": "stream",
     "text": [
      "Размер обучающей выборки: (951, 12)\n",
      "Размер тестовой выборки: (408, 12)\n"
     ]
    }
   ],
   "source": [
    "train_data, test_data = train_test_split(df, test_size=0.3, random_state=42)\n",
    "\n",
    "print(f'Размер обучающей выборки: {train_data.shape}')\n",
    "print(f'Размер тестовой выборки: {test_data.shape}')"
   ]
  },
  {
   "cell_type": "code",
   "execution_count": 8,
   "metadata": {},
   "outputs": [
    {
     "name": "stdout",
     "output_type": "stream",
     "text": [
      "       fixed acidity  volatile acidity  citric acid  residual sugar  \\\n",
      "count     951.000000        951.000000   951.000000      951.000000   \n",
      "mean        8.307992          0.528517     0.272702        2.486751   \n",
      "std         1.717348          0.176957     0.195434        1.210386   \n",
      "min         4.600000          0.160000     0.000000        0.900000   \n",
      "25%         7.100000          0.400000     0.100000        1.900000   \n",
      "50%         7.900000          0.520000     0.260000        2.200000   \n",
      "75%         9.100000          0.637500     0.420000        2.600000   \n",
      "max        15.900000          1.580000     0.780000       13.900000   \n",
      "\n",
      "        chlorides  free sulfur dioxide  total sulfur dioxide     density  \\\n",
      "count  951.000000           951.000000            951.000000  951.000000   \n",
      "mean     0.088570            15.694006             46.842271    0.996700   \n",
      "std      0.049604            10.272675             33.603639    0.001818   \n",
      "min      0.012000             2.000000              6.000000    0.990070   \n",
      "25%      0.070000             7.000000             21.000000    0.995620   \n",
      "50%      0.079000            13.000000             37.000000    0.996740   \n",
      "75%      0.091000            21.000000             64.000000    0.997800   \n",
      "max      0.611000            72.000000            289.000000    1.003200   \n",
      "\n",
      "               pH   sulphates     alcohol     quality  \n",
      "count  951.000000  951.000000  951.000000  951.000000  \n",
      "mean     3.308749    0.656656   10.418191    5.624606  \n",
      "std      0.149464    0.170025    1.083961    0.823973  \n",
      "min      2.860000    0.330000    8.400000    3.000000  \n",
      "25%      3.210000    0.550000    9.500000    5.000000  \n",
      "50%      3.310000    0.620000   10.100000    6.000000  \n",
      "75%      3.400000    0.720000   11.100000    6.000000  \n",
      "max      3.900000    1.980000   14.900000    8.000000  \n"
     ]
    }
   ],
   "source": [
    "# Посмотрим на основные статистические характеристики данных:\n",
    "print(train_data.describe())"
   ]
  },
  {
   "cell_type": "code",
   "execution_count": 10,
   "metadata": {},
   "outputs": [],
   "source": [
    "# Выделение признаков и целевой переменной\n",
    "X_train = train_data.drop('quality', axis=1)\n",
    "y_train = train_data['quality']\n",
    "\n",
    "X_test = test_data.drop('quality', axis=1)\n",
    "y_test = test_data['quality']\n",
    "\n",
    "# Стандартизируем данные\n",
    "scaler = StandardScaler()\n",
    "X_train_scaled = scaler.fit_transform(X_train)\n",
    "X_test_scaled = scaler.transform(X_test)"
   ]
  },
  {
   "cell_type": "markdown",
   "metadata": {
    "id": "FrtBjYwH5BCw"
   },
   "source": [
    "## Обучение модели регрессии\n",
    "\n",
    "Постройте модель регрессии, используя 2 алгоритма:\n",
    "- [DecisonTree](https://scikit-learn.org/stable/modules/generated/sklearn.tree.DecisionTreeRegressor.html)\n",
    "- [AdaBoostRegressor](https://scikit-learn.org/stable/modules/generated/sklearn.ensemble.AdaBoostRegressor.html#sklearn.ensemble.AdaBoostRegressor)\n",
    "\n",
    "Для начала используйте гиперпараметры по умолчанию.\n",
    "\n",
    "Рассчитайте среднее качество кросс-валидации модели как долю дисперсии зависимой переменной (коэффициент детерминации) $R^2$. Каким получилось качество? Какой алгоритм вы бы выбрали для дальнейшей работы? Обоснуйте свой выбор."
   ]
  },
  {
   "cell_type": "code",
   "execution_count": 13,
   "metadata": {
    "id": "f5iHnCUlVywE"
   },
   "outputs": [
    {
     "name": "stdout",
     "output_type": "stream",
     "text": [
      "Средний R^2 для DecisionTreeRegressor: -0.22\n",
      "Средний R^2 для AdaBoostRegressor: 0.33\n"
     ]
    }
   ],
   "source": [
    "# your code here\n",
    "dt_regressor = DecisionTreeRegressor(random_state=42)\n",
    "ada_regressor = AdaBoostRegressor(random_state=42)\n",
    "\n",
    "dt_scores = cross_val_score(dt_regressor, X_train_scaled, y_train, cv=5, scoring='r2')\n",
    "dt_mean_r2 = dt_scores.mean()\n",
    "\n",
    "ada_scores = cross_val_score(ada_regressor, X_train_scaled, y_train, cv=5, scoring='r2')\n",
    "ada_mean_r2 = ada_scores.mean()\n",
    "\n",
    "print(f'Средний R^2 для DecisionTreeRegressor: {dt_mean_r2:.2f}')\n",
    "print(f'Средний R^2 для AdaBoostRegressor: {ada_mean_r2:.2f}')\n",
    "\n",
    "# На основе полученных результатов, AdaBoostRegressor показывает более высокий коэффициент детерминации по сравнению с DecisionTreeRegressor, \n",
    "# что указывает на лучшее объяснение дисперсии целевой переменной.\n",
    "# Также, AdaBoostRegressor, как ансамблевый метод, менее склонен к переобучению по сравнению с DecisionTreeRegressor.\n",
    "# Поэтому для дальнейшей работы я бы выбрал AdaBoostRegressor."
   ]
  },
  {
   "cell_type": "markdown",
   "metadata": {
    "id": "oW7goeqD_379"
   },
   "source": [
    "Теперь сделаем подбор оптимальных гиперпараметров. Сделайте поиск по сетке с помощью кросс-валидации. Изменилось ли качество алгоритмов? Почему?"
   ]
  },
  {
   "cell_type": "code",
   "execution_count": 20,
   "metadata": {
    "id": "APjbMArMDIGO"
   },
   "outputs": [
    {
     "name": "stdout",
     "output_type": "stream",
     "text": [
      "Лучшие параметры для DecisionTreeRegressor: {'max_depth': 3, 'min_samples_split': 2}\n",
      "Лучший R^2 для DecisionTreeRegressor: 0.27\n",
      "Лучшие параметры для AdaBoostRegressor: {'learning_rate': 0.1, 'n_estimators': 200}\n",
      "Лучший R^2 для AdaBoostRegressor: 0.33\n"
     ]
    }
   ],
   "source": [
    "# your code here\n",
    "# Сетка гиперпараметров для DecisionTreeRegressor\n",
    "dt_param_grid = {\n",
    "    'max_depth': [3, 5, 7, 10],\n",
    "    'min_samples_split': [2, 5, 10]\n",
    "}\n",
    "\n",
    "# Сетка гиперпараметров для AdaBoostRegressor\n",
    "ada_param_grid = {\n",
    "    'n_estimators': [50, 100, 200],\n",
    "    'learning_rate': [0.001, 0.01, 0.1, 1.0]\n",
    "}\n",
    "\n",
    "# Для DecisionTreeRegressor\n",
    "dt_grid_search = GridSearchCV(\n",
    "    estimator=DecisionTreeRegressor(random_state=42),\n",
    "    param_grid=dt_param_grid,\n",
    "    scoring='r2',\n",
    "    cv=5,\n",
    ")\n",
    "\n",
    "# Для AdaBoostRegressor\n",
    "ada_grid_search = GridSearchCV(\n",
    "    estimator=AdaBoostRegressor(random_state=42),\n",
    "    param_grid=ada_param_grid,\n",
    "    scoring='r2',\n",
    "    cv=5,\n",
    ")\n",
    "\n",
    "dt_grid_search.fit(X_train_scaled, y_train)\n",
    "ada_grid_search.fit(X_train_scaled, y_train)\n",
    "\n",
    "print(f'Лучшие параметры для DecisionTreeRegressor: {dt_grid_search.best_params_}')\n",
    "print(f'Лучший R^2 для DecisionTreeRegressor: {dt_grid_search.best_score_:.2f}')\n",
    "\n",
    "print(f'Лучшие параметры для AdaBoostRegressor: {ada_grid_search.best_params_}')\n",
    "print(f'Лучший R^2 для AdaBoostRegressor: {ada_grid_search.best_score_:.2f}')\n",
    "\n",
    "# DecisionTreeRegressor:\n",
    "# Качество значительно улучшилось, так как ограничение глубины дерева (max_depth) и других параметров предотвратило переобучение модели.\n",
    "\n",
    "# AdaBoostRegressor:\n",
    "# Качество не изменилось. AdaBoostRegressor уже изначально показал хорошие результаты."
   ]
  },
  {
   "cell_type": "markdown",
   "metadata": {
    "id": "a-CvcOpONO_B"
   },
   "source": [
    "Оцените скорость обучения каждого из алгоритмов. Для этого воспользуйтесь графиком вида \"ящик с усами\", который отражает среднее время обучения алгоритма при фиксированном значении гиперпараметров. Что вы можете сказать о скорости работы алгоритмов? Почему наблюдаются такие результаты? Можно ли ускорить? Если да, то каким образом?"
   ]
  },
  {
   "cell_type": "code",
   "execution_count": 23,
   "metadata": {
    "id": "cLqBnzHtJOLl"
   },
   "outputs": [
    {
     "data": {
      "image/png": "[encoded data removed]",
      "text/plain": [
       "<Figure size 800x600 with 1 Axes>"
      ]
     },
     "metadata": {},
     "output_type": "display_data"
    }
   ],
   "source": [
    "# your code here\n",
    "import time\n",
    "import matplotlib.pyplot as plt\n",
    "import seaborn as sns\n",
    "\n",
    "# Фиксированные лучшие ранее подобранные гиперпараметры\n",
    "dt_params = {'max_depth': 3, 'min_samples_split': 2}\n",
    "ada_params = {'n_estimators': 200, 'learning_rate': 0.1}\n",
    "\n",
    "n_iterations = 10\n",
    "dt_times = []\n",
    "ada_times = []\n",
    "\n",
    "for _ in range(n_iterations):\n",
    "    start_time = time.time()\n",
    "    dt_model = DecisionTreeRegressor(**dt_params, random_state=42)\n",
    "    dt_model.fit(X_train_scaled, y_train)\n",
    "    dt_times.append(time.time() - start_time)\n",
    "\n",
    "    start_time = time.time()\n",
    "    ada_model = AdaBoostRegressor(**ada_params, random_state=42)\n",
    "    ada_model.fit(X_train_scaled, y_train)\n",
    "    ada_times.append(time.time() - start_time)\n",
    "\n",
    "data = [dt_times, ada_times]\n",
    "\n",
    "plt.figure(figsize=(8, 6))\n",
    "plt.boxplot(data, labels=['DecisionTree', 'AdaBoost'])\n",
    "plt.title('Сравнение времени обучения моделей')\n",
    "plt.ylabel('Время (секунды)')\n",
    "plt.xlabel('Алгоритм')\n",
    "plt.grid(True)\n",
    "plt.show()\n",
    "\n",
    "# Анализируя график, можно сделать следующие выводы:\n",
    "# - DecisionTreeRegressor работает быстрее, так как строит одно дерево.\n",
    "# - AdaBoostRegressor работает медленнее, так как строит ансамбль из множества деревьев.\n",
    "# - Скорость можно улучшить, настраивая гиперпараметры или используя более эффективные реализации алгоритмов. \n",
    "# Для DecisionTreeRegressor можно у меньшить глубину дерева (max_depth), увеличить min_samples_split или min_samples_leaf, \n",
    "# чтобы уменьшить количество узлов в дереве.\n",
    "# Для AdaBoostRegressor можно уменьшить количество деревьев (n_estimators), увеличить learning_rate, чтобы уменьшить количество итераций, \n",
    "# необходимых для сходимости."
   ]
  },
  {
   "cell_type": "markdown",
   "metadata": {
    "id": "ydm4FqI54F96"
   },
   "source": [
    "## PCA преобразование\n",
    "\n",
    "Теперь попробуем сделать преобразрование данных с помощью PCA. Выберите оптимальное количество компонент и преобразуйте данные. Объясните свой выбор."
   ]
  },
  {
   "cell_type": "code",
   "execution_count": 26,
   "metadata": {
    "id": "n5yl5I3jRJzn"
   },
   "outputs": [
    {
     "name": "stdout",
     "output_type": "stream",
     "text": [
      "Оптимальное количество компонент: 7\n",
      "Размерность данных после PCA: (951, 7)\n"
     ]
    }
   ],
   "source": [
    "# your code here\n",
    "from sklearn.decomposition import PCA\n",
    "\n",
    "pca = PCA()\n",
    "X_train_pca = pca.fit_transform(X_train_scaled)\n",
    "\n",
    "# Вычисление кумулятивной объясненной дисперсии\n",
    "explained_variance_ratio = pca.explained_variance_ratio_\n",
    "cumulative_explained_variance = np.cumsum(explained_variance_ratio)\n",
    "n_components = np.argmax(cumulative_explained_variance >= 0.9) + 1\n",
    "print(f\"Оптимальное количество компонент: {n_components}\")\n",
    "\n",
    "# Применим PCA с выбранным количеством компонент\n",
    "pca = PCA(n_components=n_components)\n",
    "X_train_pca = pca.fit_transform(X_train_scaled)\n",
    "X_test_pca = pca.transform(X_test_scaled)\n",
    "\n",
    "print(f\"Размерность данных после PCA: {X_train_pca.shape}\")\n",
    "\n",
    "# Данное количество компонент было выбрано как оптимальное, так как увеличение порога выше 0.9 не будет улушать результаты и увеличит время обучения."
   ]
  },
  {
   "cell_type": "markdown",
   "metadata": {
    "id": "S6B1nbVu6ekT"
   },
   "source": [
    "## Обучение моделей на данных, трансформированных с помощью PCA\n",
    "\n",
    "Обучим те же классификаторы на трансформированных с помощью PCA данных. Подберите оптимальные значения исследуемых гиперпараметров для новых данных. Какой алгоритм справился лучше? Какой быстрее? Почему?"
   ]
  },
  {
   "cell_type": "code",
   "execution_count": 29,
   "metadata": {
    "id": "6pXGu0ZOyZjV"
   },
   "outputs": [
    {
     "name": "stdout",
     "output_type": "stream",
     "text": [
      "Лучшие параметры для DecisionTreeRegressor (PCA): {'max_depth': 3, 'min_samples_split': 2}\n",
      "Лучший R^2 для DecisionTreeRegressor (PCA): 0.21\n",
      "Время обучения DecisionTreeRegressor (PCA): 0.25\n",
      "Лучшие параметры для AdaBoostRegressor (PCA): {'learning_rate': 1.0, 'n_estimators': 50}\n",
      "Лучший R^2 для AdaBoostRegressor (PCA): 0.30\n",
      "Время обучения AdaBoostRegressor (PCA): 12.53\n"
     ]
    }
   ],
   "source": [
    "# your code here\n",
    "dt_pca_grid_search = GridSearchCV(\n",
    "    estimator=DecisionTreeRegressor(random_state=42),\n",
    "    param_grid=dt_param_grid,\n",
    "    scoring='r2',\n",
    "    cv=5,\n",
    ")\n",
    "\n",
    "ada_pca_grid_search = GridSearchCV(\n",
    "    estimator=AdaBoostRegressor(random_state=42),\n",
    "    param_grid=ada_param_grid,\n",
    "    scoring='r2',\n",
    "    cv=5,\n",
    ")\n",
    "\n",
    "start_time = time.time()\n",
    "dt_grid_search.fit(X_train_pca, y_train)\n",
    "dt_time = time.time() - start_time\n",
    "\n",
    "start_time = time.time()\n",
    "ada_grid_search.fit(X_train_pca, y_train)\n",
    "ada_time = time.time() - start_time\n",
    "\n",
    "print(f'Лучшие параметры для DecisionTreeRegressor (PCA): {dt_grid_search.best_params_}')\n",
    "print(f'Лучший R^2 для DecisionTreeRegressor (PCA): {dt_grid_search.best_score_:.2f}')\n",
    "print(f'Время обучения DecisionTreeRegressor (PCA): {dt_time:.2f}')\n",
    "\n",
    "# Лучшие параметры и качество для AdaBoostRegressor\n",
    "print(f'Лучшие параметры для AdaBoostRegressor (PCA): {ada_grid_search.best_params_}')\n",
    "print(f'Лучший R^2 для AdaBoostRegressor (PCA): {ada_grid_search.best_score_:.2f}')\n",
    "print(f'Время обучения AdaBoostRegressor (PCA): {ada_time:.2f}')\n",
    "\n",
    "# AdaBoostRegressor работает лучше, так как это ансамблевый метод, который комбинирует множество деревьев для улучшения предсказаний, в то время как\n",
    "# DecisionTreeRegressor проигрывает в качестве, так как это одна модель, которая может переобучиться или не уловить сложные зависимости в данных.\n",
    "# Как и ранее DecisionTreeRegressor работает быстрее чем AdaBoostRegressor, так как строит одно дерево."
   ]
  },
  {
   "cell_type": "markdown",
   "metadata": {
    "id": "V6SPsE847Ejl"
   },
   "source": [
    "## Сравнение результатов\n",
    "\n",
    "Сравните результаты полученные до трансформации данных с помощью PCA и после. Для этого воспользуйтесь \"ящиком с усами\" (boxplot).\n",
    "\n",
    "Сделайте общие итоговые выводы о моделях регрессии с точки зрения их работы с признаками и сложности самой модели (какие гиперпараметры есть у модели, сильно ли изменение значения гиперпараметра влияет на качество модели)."
   ]
  },
  {
   "cell_type": "code",
   "execution_count": 32,
   "metadata": {
    "id": "V8dBsq4qilOp"
   },
   "outputs": [
    {
     "data": {
      "image/png": "[encoded data removed]",
      "text/plain": [
       "<Figure size 1000x600 with 1 Axes>"
      ]
     },
     "metadata": {},
     "output_type": "display_data"
    }
   ],
   "source": [
    "# your code here\n",
    "# Результаты до PCA\n",
    "dt_r2_before_pca = 0.27\n",
    "ada_r2_before_pca = 0.34\n",
    "\n",
    "# Результаты после PCA\n",
    "dt_r2_after_pca = 0.21\n",
    "ada_r2_after_pca = 0.30\n",
    "\n",
    "results = [dt_r2_before_pca, dt_r2_after_pca, ada_r2_before_pca, ada_r2_after_pca]\n",
    "\n",
    "results_df = pd.DataFrame({\n",
    "    'Algorithm': ['DecisionTree'] * 2 + ['AdaBoost'] * 2,\n",
    "    'PCA': ['Before PCA'] + ['After PCA'] + ['Before PCA'] + ['After PCA'],\n",
    "    'R2': results\n",
    "})\n",
    "\n",
    "plt.figure(figsize=(10, 6))\n",
    "sns.boxplot(x='Algorithm', y='R2', hue='PCA', data=results_df)\n",
    "plt.title('Сравнение качества моделей до и после PCA')\n",
    "plt.ylabel('R^2')\n",
    "plt.xlabel('Алгоритм')\n",
    "plt.legend(title='PCA')\n",
    "plt.show()\n",
    "\n",
    "# Общие итоговые выводы:\n",
    "# - AdaBoostRegressor в сравнении с DecisionTreeRegressor показал лучшее качество как до, так и после PCA. Это связано с тем, \n",
    "# что ансамблевые методы обычно лучше обобщают данные.\n",
    "# - DecisionTreeRegressor работает быстрее, так как строит одно дерево.\n",
    "# - В нашем случае применение PCA немного ухудшило качество обеих моделей,.\n",
    "# - Изменение гиперпараметров моделей сильно влияет на их качество. Например, увеличение max_depth в DecisionTreeRegressor может привести к переобучению.\n",
    "# - Если важнее качество, лучше выбрать AdaBoostRegressor, если скорость, то DecisionTreeRegressor."
   ]
  },
  {
   "cell_type": "markdown",
   "metadata": {
    "id": "zUwFUddE9hGS"
   },
   "source": [
    "## Тестирование всех модели\n",
    "\n",
    "Протестируйте все построенные модели (в т.ч. с и без PCA трансформации) на данных, которые были отложены для теста (их должно было остаться 30%). Не забудьте про все необходимые преобразования."
   ]
  },
  {
   "cell_type": "code",
   "execution_count": 34,
   "metadata": {
    "id": "aClWETCs9wgS"
   },
   "outputs": [
    {
     "name": "stdout",
     "output_type": "stream",
     "text": [
      "Результаты на тестовых данных:\n",
      "DecisionTreeRegressor (без PCA): R^2 = 0.28\n",
      "AdaBoostRegressor (без PCA): R^2 = 0.45\n",
      "DecisionTreeRegressor (с PCA): R^2 = 0.27\n",
      "AdaBoostRegressor (с PCA): R^2 = 0.35\n"
     ]
    }
   ],
   "source": [
    "# your code here\n",
    "from sklearn.metrics import r2_score\n",
    "\n",
    "X_test_pca = pca.transform(X_test_scaled)\n",
    "\n",
    "# Модели без PCA\n",
    "dt_model_before_pca = DecisionTreeRegressor(max_depth=3, min_samples_split=2, random_state=42)\n",
    "dt_model_before_pca.fit(X_train_scaled, y_train)\n",
    "dt_pred_before_pca = dt_model_before_pca.predict(X_test_scaled)\n",
    "dt_r2_before_pca = r2_score(y_test, dt_pred_before_pca)\n",
    "\n",
    "ada_model_before_pca = AdaBoostRegressor(n_estimators=200, learning_rate=0.1, random_state=42)\n",
    "ada_model_before_pca.fit(X_train_scaled, y_train)\n",
    "ada_pred_before_pca = ada_model_before_pca.predict(X_test_scaled)\n",
    "ada_r2_before_pca = r2_score(y_test, ada_pred_before_pca)\n",
    "\n",
    "# Модели с PCA\n",
    "dt_model_after_pca = DecisionTreeRegressor(max_depth=3, min_samples_split=2, random_state=42)\n",
    "dt_model_after_pca.fit(X_train_pca, y_train)\n",
    "dt_pred_after_pca = dt_model_after_pca.predict(X_test_pca)\n",
    "dt_r2_after_pca = r2_score(y_test, dt_pred_after_pca)\n",
    "\n",
    "ada_model_after_pca = AdaBoostRegressor(n_estimators=200, learning_rate=0.1, random_state=42)\n",
    "ada_model_after_pca.fit(X_train_pca, y_train)\n",
    "ada_pred_after_pca = ada_model_after_pca.predict(X_test_pca)\n",
    "ada_r2_after_pca = r2_score(y_test, ada_pred_after_pca)\n",
    "\n",
    "print(f'Результаты на тестовых данных:')\n",
    "print(f'DecisionTreeRegressor (без PCA): R^2 = {dt_r2_before_pca:.2f}')\n",
    "print(f'AdaBoostRegressor (без PCA): R^2 = {ada_r2_before_pca:.2f}')\n",
    "print(f'DecisionTreeRegressor (с PCA): R^2 = {dt_r2_after_pca:.2f}')\n",
    "print(f'AdaBoostRegressor (с PCA): R^2 = {ada_r2_after_pca:.2f}')"
   ]
  },
  {
   "cell_type": "code",
   "execution_count": null,
   "metadata": {},
   "outputs": [],
   "source": [
    "# По результатам тестирования моделей можно сделать вывод, что на тестовых данных модели показывают несколько\n",
    "# более высокие результаты. В то же время сохранилась тенденция, что при добавлении PCA результаты обеих\n",
    "# моделей снизились."
   ]
  }
 ],
 "metadata": {
  "anaconda-cloud": {},
  "colab": {
   "collapsed_sections": [
    "-rX8cvHCzany"
   ],
   "provenance": []
  },
  "kernelspec": {
   "display_name": "Python 3 (ipykernel)",
   "language": "python",
   "name": "python3"
  },
  "language_info": {
   "codemirror_mode": {
    "name": "ipython",
    "version": 3
   },
   "file_extension": ".py",
   "mimetype": "text/x-python",
   "name": "python",
   "nbconvert_exporter": "python",
   "pygments_lexer": "ipython3",
   "version": "3.12.4"
  }
 },
 "nbformat": 4,
 "nbformat_minor": 4
}
