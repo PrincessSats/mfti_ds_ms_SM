{
 "cells": [
  {
   "cell_type": "code",
   "execution_count": 1,
   "metadata": {},
   "outputs": [
    {
     "name": "stdout",
     "output_type": "stream",
     "text": [
      "user_login Python Developer\n",
      "user_login Python Developer\n"
     ]
    }
   ],
   "source": [
    "class User:\n",
    "   login = 'user_login'\n",
    "   role = 'Python Developer'\n",
    "\n",
    "\n",
    "u1 = User()\n",
    "u2 = User()\n",
    "\n",
    "print(u1.login, u1.role)\n",
    "print(u2.login, u2.role)\n",
    "\n",
    "# user_login Python Developer\n",
    "# user_login Python Developer"
   ]
  },
  {
   "cell_type": "code",
   "execution_count": 2,
   "metadata": {},
   "outputs": [
    {
     "name": "stdout",
     "output_type": "stream",
     "text": [
      "4432229728 4432220896\n"
     ]
    }
   ],
   "source": [
    "print(id(u1), id(u2))  \n",
    "# 2192065736512 2192065736464"
   ]
  },
  {
   "cell_type": "code",
   "execution_count": 3,
   "metadata": {},
   "outputs": [
    {
     "name": "stdout",
     "output_type": "stream",
     "text": [
      "{}\n"
     ]
    }
   ],
   "source": [
    "print(u1.__dict__) "
   ]
  },
  {
   "cell_type": "code",
   "execution_count": 4,
   "metadata": {},
   "outputs": [
    {
     "name": "stdout",
     "output_type": "stream",
     "text": [
      "user_login Python Developer\n",
      "user_login Python Developer\n",
      "form_login Designer\n",
      "form_login Designer\n"
     ]
    }
   ],
   "source": [
    "class User:\n",
    "   login = 'user_login'\n",
    "   role = 'Python Developer'\n",
    "\n",
    "\n",
    "u1 = User()\n",
    "u2 = User()\n",
    "\n",
    "print(u1.login, u1.role)\n",
    "print(u2.login, u2.role)\n",
    "\n",
    "# user_login Python Developer\n",
    "# user_login Python Developer\n",
    "\n",
    "User.login = 'form_login'\n",
    "User.role = 'Designer'\n",
    "\n",
    "print(u1.login, u1.role)\n",
    "print(u2.login, u2.role)\n",
    "\n",
    "# form_login Designer\n",
    "# form_login Designer"
   ]
  },
  {
   "cell_type": "code",
   "execution_count": 5,
   "metadata": {},
   "outputs": [
    {
     "name": "stdout",
     "output_type": "stream",
     "text": [
      "user_login Python Developer\n",
      "user_login Python Developer\n",
      "{} {}\n",
      "Esbern React developer\n",
      "user_login Python Developer\n",
      "{'login': 'Esbern', 'role': 'React developer'} {}\n"
     ]
    }
   ],
   "source": [
    "class User:\n",
    "   login = 'user_login'\n",
    "   role = 'Python Developer'\n",
    "\n",
    "\n",
    "u1 = User()\n",
    "u2 = User()\n",
    "\n",
    "print(u1.login, u1.role)\n",
    "print(u2.login, u2.role)\n",
    "\n",
    "print(u1.__dict__, u2.__dict__)\n",
    "\n",
    "# user_login Python Developer\n",
    "# user_login Python Developer\n",
    "# {} {}\n",
    "\n",
    "\n",
    "u1.login = 'Esbern'\n",
    "u1.role = 'React developer'\n",
    "\n",
    "print(u1.login, u1.role)\n",
    "print(u2.login, u2.role)\n",
    "\n",
    "print(u1.__dict__, u2.__dict__)\n",
    "\n",
    "# Esbern React developer\n",
    "# user_login Python Developer\n",
    "# {'login': 'Esbern', 'role': 'React developer'} {}"
   ]
  },
  {
   "cell_type": "code",
   "execution_count": 6,
   "metadata": {},
   "outputs": [
    {
     "name": "stdout",
     "output_type": "stream",
     "text": [
      "{'__module__': '__main__', 'login': 'user_login', 'role': 'Python Developer', '__dict__': <attribute '__dict__' of 'User' objects>, '__weakref__': <attribute '__weakref__' of 'User' objects>, '__doc__': None}\n",
      "{'__module__': '__main__', 'login': 'user_login', 'role': 'Python Developer', '__dict__': <attribute '__dict__' of 'User' objects>, '__weakref__': <attribute '__weakref__' of 'User' objects>, '__doc__': None, 'email': 'user@gmail.com'}\n"
     ]
    }
   ],
   "source": [
    "class User:\n",
    "   login = 'user_login'\n",
    "   role = 'Python Developer'\n",
    "\n",
    "print(User.__dict__)\n",
    "\n",
    "# {'__module__': '__main__', 'login': 'user_login', 'role': 'Python Developer', '__dict__': <attribute '__dict__' of 'User' objects>, '__weakref__': <attribute '__weakref__' of 'User' objects>, '__doc__': None}\n",
    "\n",
    "User.email = 'user@gmail.com'\n",
    "\n",
    "print(User.__dict__)\n",
    "\n",
    "# {'__module__': '__main__', 'login': 'user_login', 'role': 'Python Developer', '__dict__': <attribute '__dict__' of 'User' objects>, '__weakref__': <attribute '__weakref__' of 'User' objects>, '__doc__': None, 'email': 'user@gmail.com'}"
   ]
  },
  {
   "cell_type": "code",
   "execution_count": 7,
   "metadata": {},
   "outputs": [],
   "source": [
    "class User:\n",
    "   login = 'user_login'\n",
    "   role = 'Python Developer'\n",
    "\n",
    "\n",
    "u1 = User()\n",
    "\n",
    "# Установка (либо изменение) нового атрибута класса\n",
    "setattr(User, 'email', 'user@gmail.com')\n",
    "\n",
    "# Установка (либо изменение) локального атрибута экземпляру класса\n",
    "setattr(u1, 'login', 'DEIvanov')"
   ]
  },
  {
   "cell_type": "code",
   "execution_count": 8,
   "metadata": {},
   "outputs": [
    {
     "ename": "AttributeError",
     "evalue": "type object 'User' has no attribute 'email'",
     "output_type": "error",
     "traceback": [
      "\u001b[0;31m---------------------------------------------------------------------------\u001b[0m",
      "\u001b[0;31mAttributeError\u001b[0m                            Traceback (most recent call last)",
      "Cell \u001b[0;32mIn[8], line 6\u001b[0m\n\u001b[1;32m      2\u001b[0m    login \u001b[38;5;241m=\u001b[39m \u001b[38;5;124m'\u001b[39m\u001b[38;5;124muser_login\u001b[39m\u001b[38;5;124m'\u001b[39m\n\u001b[1;32m      3\u001b[0m    role \u001b[38;5;241m=\u001b[39m \u001b[38;5;124m'\u001b[39m\u001b[38;5;124mPython Developer\u001b[39m\u001b[38;5;124m'\u001b[39m\n\u001b[0;32m----> 6\u001b[0m \u001b[38;5;28mprint\u001b[39m(\u001b[43mUser\u001b[49m\u001b[38;5;241;43m.\u001b[39;49m\u001b[43memail\u001b[49m)\n\u001b[1;32m      8\u001b[0m \u001b[38;5;66;03m# AttributeError: type object 'User' has no attribute 'email'\u001b[39;00m\n",
      "\u001b[0;31mAttributeError\u001b[0m: type object 'User' has no attribute 'email'"
     ]
    }
   ],
   "source": [
    "class User:\n",
    "   login = 'user_login'\n",
    "   role = 'Python Developer'\n",
    "\n",
    "\n",
    "print(User.email)\n",
    "\n",
    "# AttributeError: type object 'User' has no attribute 'email'"
   ]
  },
  {
   "cell_type": "code",
   "execution_count": 9,
   "metadata": {},
   "outputs": [
    {
     "name": "stdout",
     "output_type": "stream",
     "text": [
      "False\n"
     ]
    }
   ],
   "source": [
    "print(getattr(User, 'email', False))"
   ]
  },
  {
   "cell_type": "code",
   "execution_count": 10,
   "metadata": {},
   "outputs": [
    {
     "name": "stdout",
     "output_type": "stream",
     "text": [
      "True\n",
      "False\n"
     ]
    }
   ],
   "source": [
    "class User:\n",
    "   login = 'user_login'\n",
    "   role = 'Python Developer'\n",
    "\n",
    "\n",
    "User.email = 'email_template@gmail.com'\n",
    "print(hasattr(User, 'email'))\n",
    "\n",
    "del User.email\n",
    "print(hasattr(User, 'email'))\n",
    "\n",
    "# True\n",
    "# False"
   ]
  },
  {
   "cell_type": "code",
   "execution_count": 11,
   "metadata": {},
   "outputs": [
    {
     "name": "stdout",
     "output_type": "stream",
     "text": [
      "True\n",
      "False\n"
     ]
    }
   ],
   "source": [
    "class User:\n",
    "   login = 'user_login'\n",
    "   role = 'Python Developer'\n",
    "\n",
    "\n",
    "User.email = 'email_template@gmail.com'\n",
    "print(hasattr(User, 'email'))\n",
    "\n",
    "# True\n",
    "\n",
    "delattr(User, 'email')\n",
    "print(hasattr(User, 'email'))\n",
    "\n",
    "# False"
   ]
  },
  {
   "cell_type": "code",
   "execution_count": 13,
   "metadata": {},
   "outputs": [
    {
     "name": "stdout",
     "output_type": "stream",
     "text": [
      "{'name': 'Иван', 'surname': 'Иванов', 'semester': 1}\n"
     ]
    }
   ],
   "source": [
    "class Student:\n",
    "   course = 'Data Science'\n",
    "   \n",
    "\n",
    "\n",
    "s1 = Student()\n",
    "s1.name = \"Иван\"\n",
    "s1.surname = 'Иванов'\n",
    "s1.semester = 1\n",
    "result = s1.__dict__\n",
    "\n",
    "print(result)"
   ]
  }
 ],
 "metadata": {
  "kernelspec": {
   "display_name": "Python 3",
   "language": "python",
   "name": "python3"
  },
  "language_info": {
   "codemirror_mode": {
    "name": "ipython",
    "version": 3
   },
   "file_extension": ".py",
   "mimetype": "text/x-python",
   "name": "python",
   "nbconvert_exporter": "python",
   "pygments_lexer": "ipython3",
   "version": "3.12.3"
  }
 },
 "nbformat": 4,
 "nbformat_minor": 2
}
