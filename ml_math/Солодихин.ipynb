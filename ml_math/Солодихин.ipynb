{
 "cells": [
  {
   "cell_type": "markdown",
   "metadata": {
    "id": "NyHIGVhfa_Wf"
   },
   "source": [
    "# Стохастический градиентный и координатный спуски"
   ]
  },
  {
   "cell_type": "markdown",
   "metadata": {
    "id": "gn6lluIADUKa"
   },
   "source": [
    "Для каждого задания указано количество баллов (если они оцениваются отдельно) + 1 балл за аккуратное и полное выполнение всего задания"
   ]
  },
  {
   "cell_type": "markdown",
   "metadata": {
    "id": "txCccYvha_Wv"
   },
   "source": [
    "## Загрузка и подготовка данных"
   ]
  },
  {
   "cell_type": "markdown",
   "metadata": {
    "id": "NbyOzeZ6a_Wx"
   },
   "source": [
    "**Загрузите уже знакомый вам файл *Advertising.csv* как объект DataFrame.** "
   ]
  },
  {
   "cell_type": "code",
   "execution_count": 1,
   "metadata": {
    "id": "E1L4_xeDa_Wz"
   },
   "outputs": [
    {
     "name": "stdout",
     "output_type": "stream",
     "text": [
      "Первые 5 строк данных:\n",
      "   Unnamed: 0     TV  radio  newspaper  sales\n",
      "0           1  230.1   37.8       69.2   22.1\n",
      "1           2   44.5   39.3       45.1   10.4\n",
      "2           3   17.2   45.9       69.3    9.3\n",
      "3           4  151.5   41.3       58.5   18.5\n",
      "4           5  180.8   10.8       58.4   12.9\n",
      "\n",
      "Информация о датасете:\n",
      "<class 'pandas.core.frame.DataFrame'>\n",
      "RangeIndex: 200 entries, 0 to 199\n",
      "Data columns (total 5 columns):\n",
      " #   Column      Non-Null Count  Dtype  \n",
      "---  ------      --------------  -----  \n",
      " 0   Unnamed: 0  200 non-null    int64  \n",
      " 1   TV          200 non-null    float64\n",
      " 2   radio       200 non-null    float64\n",
      " 3   newspaper   200 non-null    float64\n",
      " 4   sales       200 non-null    float64\n",
      "dtypes: float64(4), int64(1)\n",
      "memory usage: 7.9 KB\n",
      "None\n"
     ]
    }
   ],
   "source": [
    "# Импортируем необходимые библиотеки\n",
    "import pandas as pd\n",
    "\n",
    "# Загружаем данные из файла Advertising.csv\n",
    "try:\n",
    "  df = pd.read_csv('data/Advertising.csv')\n",
    "\n",
    "  # Выводим первые несколько строк для проверки\n",
    "  print(\"Первые 5 строк данных:\")\n",
    "  print(df.head())\n",
    "\n",
    "  # Выводим основную информацию о датасете\n",
    "  print(\"\\nИнформация о датасете:\")\n",
    "  print(df.info())\n",
    "\n",
    "except FileNotFoundError:\n",
    "  print(\"Ошибка: Файл 'Advertising.csv' не найден в текущей директории\")\n",
    "except Exception as e:\n",
    "  print(f\"Произошла ошибка при загрузке файла: {e}\")\n"
   ]
  },
  {
   "cell_type": "markdown",
   "metadata": {
    "id": "bf4aVFndDUKf"
   },
   "source": [
    "**Проверьте, есть ли в данных пропуски и, если они есть - удалите их**"
   ]
  },
  {
   "cell_type": "code",
   "execution_count": 2,
   "metadata": {
    "id": "tiVeFnR5DUKg"
   },
   "outputs": [
    {
     "name": "stdout",
     "output_type": "stream",
     "text": [
      "Количество пропущенных значений в каждой колонке:\n",
      "Unnamed: 0    0\n",
      "TV            0\n",
      "radio         0\n",
      "newspaper     0\n",
      "sales         0\n",
      "dtype: int64\n",
      "\n",
      "Общее количество пропущенных значений:\n",
      "0\n",
      "\n",
      "В датасете нет пропущенных значений!\n"
     ]
    }
   ],
   "source": [
    "# Проверяем наличие пропусков\n",
    "print(\"Количество пропущенных значений в каждой колонке:\")\n",
    "print(df.isnull().sum())\n",
    "\n",
    "print(\"\\nОбщее количество пропущенных значений:\")\n",
    "print(df.isnull().sum().sum())\n",
    "\n",
    "# Если есть пропуски, удаляем их\n",
    "if df.isnull().sum().sum() > 0:\n",
    "  df_clean = df.dropna()\n",
    "  print(\"\\nРазмер датасета до удаления пропусков:\", df.shape)\n",
    "  print(\"Размер датасета после удаления пропусков:\", df_clean.shape)\n",
    "else:\n",
    "  print(\"\\nВ датасете нет пропущенных значений!\")"
   ]
  },
  {
   "cell_type": "markdown",
   "metadata": {
    "id": "rTkiqPr_DUKh"
   },
   "source": [
    "**Преобразуйте ваши признаки в массивы NumPy и разделите их на переменные X (предикторы) и y(целевая переменная)** "
   ]
  },
  {
   "cell_type": "code",
   "execution_count": 3,
   "metadata": {
    "id": "R9OHIRB3a_Xa"
   },
   "outputs": [
    {
     "name": "stdout",
     "output_type": "stream",
     "text": [
      "Размерность массива признаков X: (200, 3)\n",
      "Размерность массива целевой переменной y: (200,)\n",
      "\n",
      "Первые 5 строк массива признаков X:\n",
      "[[230.1  37.8  69.2]\n",
      " [ 44.5  39.3  45.1]\n",
      " [ 17.2  45.9  69.3]\n",
      " [151.5  41.3  58.5]\n",
      " [180.8  10.8  58.4]]\n",
      "\n",
      "Первые 5 значений целевой переменной y:\n",
      "[22.1 10.4  9.3 18.5 12.9]\n"
     ]
    }
   ],
   "source": [
    "import numpy as np\n",
    "\n",
    "# Выделяем признаки (X) - TV, radio, newspaper\n",
    "X = df[['TV', 'radio', 'newspaper']].values\n",
    "\n",
    "# Выделяем целевую переменную (y) - sales\n",
    "y = df['sales'].values\n",
    "\n",
    "# Проверяем размерности полученных массивов\n",
    "print(\"Размерность массива признаков X:\", X.shape)\n",
    "print(\"Размерность массива целевой переменной y:\", y.shape)\n",
    "\n",
    "# Выводим первые 5 строк для проверки\n",
    "print(\"\\nПервые 5 строк массива признаков X:\")\n",
    "print(X[:5])\n",
    "print(\"\\nПервые 5 значений целевой переменной y:\")\n",
    "print(y[:5])"
   ]
  },
  {
   "cell_type": "markdown",
   "metadata": {
    "id": "KCvjSoHEDUKo"
   },
   "source": [
    "## Координатный спуск (3 балла)"
   ]
  },
  {
   "cell_type": "markdown",
   "metadata": {
    "id": "yjNm8dATDUKq"
   },
   "source": [
    "**Добавим единичный столбец для того, чтобы у нас был свободный коэффициент в уравнении регрессии:**"
   ]
  },
  {
   "cell_type": "code",
   "execution_count": 4,
   "metadata": {
    "id": "LMgq0fmKDUKr"
   },
   "outputs": [],
   "source": [
    "import numpy as np\n",
    "X = np.hstack([np.ones(X.shape[0]).reshape(-1, 1), X])"
   ]
  },
  {
   "cell_type": "markdown",
   "metadata": {
    "id": "R008OQwcDUKt"
   },
   "source": [
    "**Нормализуем данные: обычно это необходимо для корректной работы алгоритма**"
   ]
  },
  {
   "cell_type": "code",
   "execution_count": 5,
   "metadata": {
    "id": "2Sk7Wx-SDUKt"
   },
   "outputs": [],
   "source": [
    "X = X / np.sqrt(np.sum(np.square(X), axis=0))"
   ]
  },
  {
   "cell_type": "markdown",
   "metadata": {
    "id": "F_pHHbAdDUKu"
   },
   "source": [
    "**Реализуйте алгоритм координатного спуска:** (3 балла)\n",
    "\n",
    "Ниже приведен алгоритм:"
   ]
  },
  {
   "cell_type": "markdown",
   "metadata": {
    "id": "jBQ8vT5UDUKu"
   },
   "source": [
    "<a href=\"https://ibb.co/Th3BQFn\"><img src=\"https://i.ibb.co/DK2DBS6/zascas.jpg\" alt=\"zascas\" border=\"0\"></a>"
   ]
  },
  {
   "cell_type": "markdown",
   "metadata": {
    "id": "5ce_yM20DUKv"
   },
   "source": [
    "Примечание: 1000 итераций здесь указаны для этого задания, на самом деле их может быть намного больше, нет детерменированного значения."
   ]
  },
  {
   "cell_type": "markdown",
   "metadata": {
    "id": "y3IdiHm9DUKv"
   },
   "source": [
    "Вам необходимо реализовать координатный спуск, и вывести веса в модели линейной регрессии."
   ]
  },
  {
   "cell_type": "code",
   "execution_count": 6,
   "metadata": {
    "id": "Vsi3d9OfDUKw"
   },
   "outputs": [
    {
     "name": "stdout",
     "output_type": "stream",
     "text": [
      "Веса модели линейной регрессии:\n",
      "w0 (свободный член): 41.5622\n",
      "w1 (TV): 110.1314\n",
      "w2 (radio): 73.5286\n",
      "w3 (newspaper): -0.5501\n",
      "\n",
      "R² score: 0.8972\n",
      "\n",
      "Уравнение регрессии:\n",
      "sales = 41.5622 + 110.1314*TV + 73.5286*radio + -0.5501*newspaper\n"
     ]
    }
   ],
   "source": [
    "# Создаем нулевой вектор весов w\n",
    "w = np.zeros(X.shape[1])\n",
    "\n",
    "# Реализуем координатный спуск\n",
    "n_iterations = 1000\n",
    "\n",
    "for iteration in range(n_iterations):\n",
    "  # Вычисляем остаток r = y - X*w\n",
    "  r = y - np.dot(X, w)\n",
    "\n",
    "  # Проходим по всем признакам\n",
    "  for j in range(X.shape[1]):\n",
    "      # Вычисляем r_j = r + X_j * w_j\n",
    "      r_j = r + X[:, j] * w[j]\n",
    "\n",
    "      # Обновляем вес w_j = X_j * r_j\n",
    "      w[j] = np.dot(X[:, j], r_j)\n",
    "\n",
    "      # Обновляем остаток r = r - X_j * w_j\n",
    "      r = r_j - X[:, j] * w[j]\n",
    "\n",
    "# Выводим результаты\n",
    "print(\"Веса модели линейной регрессии:\")\n",
    "print(f\"w0 (свободный член): {w[0]:.4f}\")\n",
    "print(f\"w1 (TV): {w[1]:.4f}\")\n",
    "print(f\"w2 (radio): {w[2]:.4f}\")\n",
    "print(f\"w3 (newspaper): {w[3]:.4f}\")\n",
    "\n",
    "# Проверяем качество модели\n",
    "y_pred = np.dot(X, w)\n",
    "r2 = 1 - np.sum((y - y_pred)**2) / np.sum((y - np.mean(y))**2)\n",
    "print(f\"\\nR² score: {r2:.4f}\")\n",
    "\n",
    "# Выводим уравнение регрессии\n",
    "equation = f\"sales = {w[0]:.4f} + {w[1]:.4f}*TV + {w[2]:.4f}*radio + {w[3]:.4f}*newspaper\"\n",
    "print(\"\\nУравнение регрессии:\")\n",
    "print(equation)"
   ]
  },
  {
   "cell_type": "markdown",
   "metadata": {
    "id": "a3jG-7UADUKx"
   },
   "source": [
    "Сравните результаты с реализацией линейной регрессии из библиотеки sklearn:"
   ]
  },
  {
   "cell_type": "code",
   "execution_count": 7,
   "metadata": {
    "id": "SBl-1Yb5DUKy"
   },
   "outputs": [
    {
     "name": "stdout",
     "output_type": "stream",
     "text": [
      "[ 41.56217205 110.13144155  73.52860638  -0.55006384]\n"
     ]
    }
   ],
   "source": [
    "from sklearn.linear_model import LinearRegression\n",
    " \n",
    "model = LinearRegression(fit_intercept=False)\n",
    "model.fit(X, y)\n",
    " \n",
    "print(model.coef_)"
   ]
  },
  {
   "cell_type": "markdown",
   "metadata": {
    "id": "hIl0AGLyDUKy"
   },
   "source": [
    "Если вы все сделали верно, они должны практически совпасть!"
   ]
  },
  {
   "cell_type": "markdown",
   "metadata": {
    "id": "VCGwFnPdDUKz"
   },
   "source": [
    "## Стохастический градиентный спуск (6 баллов)"
   ]
  },
  {
   "cell_type": "markdown",
   "metadata": {
    "id": "5u7Q2YJla_Xk"
   },
   "source": [
    "**Отмасштабируйте столбцы исходной матрицы *X* (которую мы не нормализовали еще!). Для того, чтобы это сделать, надо вычесть из каждого значения среднее и разделить на стандартное отклонение** (0.5 баллов)"
   ]
  },
  {
   "cell_type": "code",
   "execution_count": 8,
   "metadata": {
    "id": "9cEpV_5La_Xo"
   },
   "outputs": [
    {
     "name": "stdout",
     "output_type": "stream",
     "text": [
      "Средние значения признаков:\n",
      "TV: 0.0611\n",
      "radio: 0.0596\n",
      "newspaper: 0.0576\n",
      "\n",
      "Стандартные отклонения признаков:\n",
      "TV: 0.0356\n",
      "radio: 0.0380\n",
      "newspaper: 0.0410\n",
      "\n",
      "Первые 5 строк масштабированной матрицы X:\n",
      "[[ 1.          0.96985227  0.98152247  1.77894547]\n",
      " [ 1.         -1.19737623  1.08280781  0.66957876]\n",
      " [ 1.         -1.51615499  1.52846331  1.78354865]\n",
      " [ 1.          0.05204968  1.21785493  1.28640506]\n",
      " [ 1.          0.3941822  -0.84161366  1.28180188]]\n",
      "\n",
      "Проверка: средние значения после масштабирования (должны быть близки к 0):\n",
      "[ 1.00000000e+00 -3.55271368e-17 -2.22044605e-16 -1.24344979e-16]\n",
      "\n",
      "Проверка: стандартные отклонения после масштабирования (должны быть близки к 1):\n",
      "[0. 1. 1. 1.]\n"
     ]
    }
   ],
   "source": [
    "# Вычисляем среднее значение для каждого столбца\n",
    "mean_X = np.mean(X, axis=0)\n",
    "\n",
    "# Вычисляем стандартное отклонение для каждого столбца\n",
    "std_X = np.std(X, axis=0)\n",
    "\n",
    "# Выполняем стандартизацию\n",
    "X_scaled = (X - mean_X) / std_X\n",
    "\n",
    "# Выводим результаты\n",
    "print(\"Средние значения признаков:\")\n",
    "print(f\"TV: {mean_X[1]:.4f}\")\n",
    "print(f\"radio: {mean_X[2]:.4f}\")\n",
    "print(f\"newspaper: {mean_X[3]:.4f}\")\n",
    "\n",
    "print(\"\\nСтандартные отклонения признаков:\")\n",
    "print(f\"TV: {std_X[1]:.4f}\")\n",
    "print(f\"radio: {std_X[2]:.4f}\")\n",
    "print(f\"newspaper: {std_X[3]:.4f}\")\n",
    "\n",
    "print(\"\\nПервые 5 строк масштабированной матрицы X:\")\n",
    "print(X_scaled[:5])\n",
    "\n",
    "# Проверяем, что масштабирование выполнено корректно\n",
    "print(\"\\nПроверка: средние значения после масштабирования (должны быть близки к 0):\")\n",
    "print(np.mean(X_scaled, axis=0))\n",
    "print(\"\\nПроверка: стандартные отклонения после масштабирования (должны быть близки к 1):\")\n",
    "print(np.std(X_scaled, axis=0))"
   ]
  },
  {
   "cell_type": "markdown",
   "metadata": {
    "id": "8WkNYILHDUK1"
   },
   "source": [
    "**Добавим единичный столбец**"
   ]
  },
  {
   "cell_type": "code",
   "execution_count": 9,
   "metadata": {
    "id": "EVl5tEGtDUK1"
   },
   "outputs": [],
   "source": [
    "X = np.hstack([np.ones(X.shape[0]).reshape(-1, 1), X])"
   ]
  },
  {
   "cell_type": "markdown",
   "metadata": {
    "id": "m53tZA5fDUK1"
   },
   "source": [
    "**Создайте функцию mse_error для вычисления среднеквадратичной ошибки, принимающую два аргумента: реальные значения и предсказывающие, и возвращающую значение mse** (0.5 балла)"
   ]
  },
  {
   "cell_type": "code",
   "execution_count": 10,
   "metadata": {
    "id": "0cvtC08Aa_YK"
   },
   "outputs": [
    {
     "name": "stdout",
     "output_type": "stream",
     "text": [
      "Размерность X: (200, 5)\n",
      "Размерность w: (4,)\n",
      "Размерность исправленной X: (200, 4)\n",
      "Среднеквадратичная ошибка (MSE): 1595.763921\n"
     ]
    }
   ],
   "source": [
    "def mse_error(y_true, y_pred):\n",
    "  \"\"\"\n",
    "  Вычисляет среднеквадратичную ошибку (MSE)\n",
    "\n",
    "  Параметры:\n",
    "  y_true: реальные значения\n",
    "  y_pred: предсказанные значения\n",
    "\n",
    "  Возвращает:\n",
    "  float: значение MSE\n",
    "  \"\"\"\n",
    "  # Вычисляем разность между реальными и предсказанными значениями\n",
    "  error = y_true - y_pred\n",
    "\n",
    "  # Возводим в квадрат и находим среднее\n",
    "  mse = np.mean(error ** 2)\n",
    "\n",
    "  return mse\n",
    "\n",
    "# Проверим размерности\n",
    "print(\"Размерность X:\", X.shape)\n",
    "print(\"Размерность w:\", w.shape)\n",
    "\n",
    "# Если X имеет размерность (200,5), а w - (4,), нужно использовать правильную матрицу X\n",
    "# Используем только первые 4 столбца X для соответствия размерности w\n",
    "X_correct = X[:, :4]\n",
    "print(\"Размерность исправленной X:\", X_correct.shape)\n",
    "\n",
    "# Теперь вычислим предсказания\n",
    "y_pred = np.dot(X_correct, w)\n",
    "\n",
    "# Вычислим MSE\n",
    "mse = mse_error(y, y_pred)\n",
    "print(f\"Среднеквадратичная ошибка (MSE): {mse:.6f}\")"
   ]
  },
  {
   "cell_type": "markdown",
   "metadata": {
    "id": "lpOLhdvBDUK2"
   },
   "source": [
    "**Сделайте наивный прогноз: предскажите продажи средним значением. После этого рассчитайте среднеквадратичную ошибку для этого прогноза** (0.5 балла)"
   ]
  },
  {
   "cell_type": "code",
   "execution_count": 11,
   "metadata": {
    "id": "kLV_XljVa_YZ"
   },
   "outputs": [
    {
     "name": "stdout",
     "output_type": "stream",
     "text": [
      "Среднее значение продаж: 14.02\n",
      "MSE наивного прогноза: 27.085744\n",
      "MSE модели линейной регрессии: 1595.763921\n"
     ]
    }
   ],
   "source": [
    "# Вычисляем среднее значение целевой переменной\n",
    "y_mean = np.mean(y)\n",
    "\n",
    "# Создаем вектор предсказаний, где каждое предсказание равно среднему значению\n",
    "y_pred_naive = np.full_like(y, y_mean)\n",
    "\n",
    "# Рассчитываем MSE для наивного прогноза\n",
    "mse_naive = mse_error(y, y_pred_naive)\n",
    "\n",
    "print(f\"Среднее значение продаж: {y_mean:.2f}\")\n",
    "print(f\"MSE наивного прогноза: {mse_naive:.6f}\")\n",
    "\n",
    "# Для сравнения выведем MSE нашей модели линейной регрессии\n",
    "print(f\"MSE модели линейной регрессии: {mse:.6f}\")"
   ]
  },
  {
   "cell_type": "markdown",
   "metadata": {
    "id": "BbybL2ola_ZM"
   },
   "source": [
    "**Создайте функцию *lin_pred*, которая может по матрице предикторов *X* и вектору весов линейной модели *w* получить вектор прогнозов** (0.5 балла)"
   ]
  },
  {
   "cell_type": "code",
   "execution_count": 12,
   "metadata": {
    "id": "1Cyz-Luaa_ZO"
   },
   "outputs": [
    {
     "name": "stdout",
     "output_type": "stream",
     "text": [
      "Размерность вектора прогнозов: (200,)\n",
      "Первые 5 прогнозов: [56.3269178  50.65388792 49.81044167 53.92039814 54.85866155]\n"
     ]
    }
   ],
   "source": [
    "def lin_pred(X, w):\n",
    "  \"\"\"\n",
    "  Функция для получения прогнозов линейной модели\n",
    "\n",
    "  Параметры:\n",
    "  X : numpy.ndarray - матрица признаков размерности (n_samples, n_features)\n",
    "  w : numpy.ndarray - вектор весов модели размерности (n_features,)\n",
    "\n",
    "  Возвращает:\n",
    "  numpy.ndarray - вектор прогнозов размерности (n_samples,)\n",
    "  \"\"\"\n",
    "  # Проверяем соответствие размерностей\n",
    "  if X.shape[1] != len(w):\n",
    "      # Если количество столбцов X не соответствует длине w, \n",
    "      # используем только нужное количество столбцов\n",
    "      X = X[:, :len(w)]\n",
    "\n",
    "  # Вычисляем прогнозы как произведение матрицы признаков на вектор весов\n",
    "  predictions = np.dot(X, w)\n",
    "\n",
    "  return predictions\n",
    "\n",
    "# Пример использования:\n",
    "# Предполагая, что у нас есть X и w\n",
    "try:\n",
    "  y_pred = lin_pred(X, w)\n",
    "  print(\"Размерность вектора прогнозов:\", y_pred.shape)\n",
    "  print(\"Первые 5 прогнозов:\", y_pred[:5])\n",
    "except NameError:\n",
    "  print(\"Для проверки работы функции необходимо предоставить матрицу X и вектор весов w\")"
   ]
  },
  {
   "cell_type": "markdown",
   "metadata": {
    "id": "BU4adBrya_Zm"
   },
   "source": [
    "**Создайте функцию *stoch_grad_step* для реализации шага стохастического градиентного спуска. (1.5 балла) \n",
    "Функция должна принимать на вход следующие аргументы:**\n",
    "* матрицу *X*\n",
    "* вектора *y* и *w*\n",
    "* число *train_ind* - индекс объекта обучающей выборки (строки матрицы *X*), по которому считается изменение весов\n",
    "* число *$\\eta$* (eta) - шаг градиентного спуска\n",
    "\n",
    "Результатом будет вектор обновленных весов"
   ]
  },
  {
   "cell_type": "markdown",
   "metadata": {
    "id": "dyLY-P02DUK5"
   },
   "source": [
    "Шаг для стохастического градиентного спуска выглядит следующим образом:"
   ]
  },
  {
   "cell_type": "markdown",
   "metadata": {
    "id": "ORsAyIKNDUK5"
   },
   "source": [
    "$$\\Large w_j \\leftarrow w_j - \\frac{2\\eta}{\\ell} \\sum_{i=1}^\\ell{{x_{ij}((w_0 + w_1x_{i1} + w_2x_{i2} +  w_3x_{i3}) - y_i)}}$$"
   ]
  },
  {
   "cell_type": "markdown",
   "metadata": {
    "id": "CQl2FrpuDUK6"
   },
   "source": [
    "Для того, чтобы написать функцию, нужно сделать следующее:\n",
    "    \n",
    "*  посчитать направление изменения: умножить объект обучающей выборки на 2 и на разницу между предсказанным значением и реальным, а потом поделить на количество элементов в выборке.\n",
    "* вернуть разницу между вектором весов и направлением изменения, умноженным на шаг градиентного спуска"
   ]
  },
  {
   "cell_type": "code",
   "execution_count": 13,
   "metadata": {
    "id": "YUhVQGsja_Zn"
   },
   "outputs": [],
   "source": [
    "def stoch_grad_step(X, y, w, train_ind, eta):\n",
    "  \"\"\"\n",
    "  Выполняет шаг стохастического градиентного спуска\n",
    "\n",
    "  Параметры:\n",
    "  X : numpy.ndarray - матрица признаков\n",
    "  y : numpy.ndarray - вектор целевой переменной\n",
    "  w : numpy.ndarray - текущий вектор весов\n",
    "  train_ind : int - индекс объекта в обучающей выборке\n",
    "  eta : float - шаг градиентного спуска\n",
    "\n",
    "  Возвращает:\n",
    "  numpy.ndarray - обновленный вектор весов\n",
    "  \"\"\"\n",
    "  # Получаем объект выборки по индексу\n",
    "  x_i = X[train_ind]\n",
    "  y_i = y[train_ind]\n",
    "\n",
    "  # Вычисляем предсказание для текущего объекта\n",
    "  y_pred = np.dot(x_i, w)\n",
    "\n",
    "  # Вычисляем ошибку\n",
    "  error = y_pred - y_i\n",
    "\n",
    "  # Вычисляем направление изменения\n",
    "  # Умножаем на 2, на ошибку и делим на размер выборки\n",
    "  gradient = 2 * x_i * error / len(X)\n",
    "\n",
    "  # Обновляем веса\n",
    "  w_new = w - eta * gradient\n",
    "\n",
    "  return w_new"
   ]
  },
  {
   "cell_type": "markdown",
   "metadata": {
    "id": "pXwIFd0Ma_Zx"
   },
   "source": [
    "**Создайте функцию *stochastic_gradient_descent*, для реализации стохастического градиентного спуска (2.5 балла)**\n",
    "\n",
    "**Функция принимает на вход следующие аргументы:**\n",
    "- Матрицу признаков X\n",
    "- Целевую переменнную\n",
    "- Изначальную точку (веса модели)\n",
    "- Параметр, определяющий темп обучения\n",
    "- Максимальное число итераций\n",
    "- Евклидово расстояние между векторами весов на соседних итерациях градиентного спуска,при котором алгоритм прекращает работу \n",
    "\n",
    "**На каждой итерации в вектор (список) должно записываться текущее значение среднеквадратичной ошибки. Функция должна возвращать вектор весов $w$, а также вектор (список) ошибок.**"
   ]
  },
  {
   "cell_type": "markdown",
   "metadata": {
    "id": "ZVeoNF1JDUK7"
   },
   "source": [
    "Алгоритм сследующий:\n",
    "    \n",
    "* Инициализируйте расстояние между векторами весов на соседних итерациях большим числом (можно бесконечностью)\n",
    "* Создайте пустой список для фиксации ошибок\n",
    "* Создайте счетчик итераций\n",
    "* Реализуйте оновной цикл обучения пока расстояние между векторами весов больше того, при котором надо прекратить работу (когда расстояния станут слишком маленькими - значит, мы застряли в одном месте) и количество итераций меньше максимально разрешенного: сгенерируйте случайный индекс, запишите текущую ошибку в вектор ошибок, запишите в переменную текущий шаг стохастического спуска с использованием функции, написанной ранее. Далее рассчитайте текущее расстояние между векторами весов и прибавьте к счетчику итераций 1.\n",
    "* Верните вектор весов и вектор ошибок"
   ]
  },
  {
   "cell_type": "code",
   "execution_count": 14,
   "metadata": {
    "id": "CD_xcFNfa_Zy"
   },
   "outputs": [],
   "source": [
    "def stochastic_gradient_descent(X, y, w_init, eta, max_iter, eps):\n",
    "  \"\"\"\n",
    "  Реализация стохастического градиентного спуска\n",
    "\n",
    "  Параметры:\n",
    "  X : numpy.ndarray - матрица признаков\n",
    "  y : numpy.ndarray - целевая переменная\n",
    "  w_init : numpy.ndarray - начальный вектор весов\n",
    "  eta : float - темп обучения\n",
    "  max_iter : int - максимальное число итераций\n",
    "  eps : float - минимальное расстояние между векторами весов\n",
    "\n",
    "  Возвращает:\n",
    "  tuple : (вектор весов, список ошибок)\n",
    "  \"\"\"\n",
    "  # Инициализация расстояния между векторами весов\n",
    "  weight_distance = np.inf\n",
    "\n",
    "  # Создаем список для хранения ошибок\n",
    "  errors = []\n",
    "\n",
    "  # Инициализация счетчика итераций\n",
    "  iter_count = 0\n",
    "\n",
    "  # Текущий вектор весов\n",
    "  w_current = w_init.copy()\n",
    "\n",
    "  # Основной цикл обучения\n",
    "  while (weight_distance > eps) and (iter_count < max_iter):\n",
    "      # Сохраняем предыдущие веса\n",
    "      w_previous = w_current.copy()\n",
    "\n",
    "      # Генерируем случайный индекс\n",
    "      random_index = np.random.randint(0, len(X))\n",
    "\n",
    "      # Вычисляем текущую ошибку и добавляем в список\n",
    "      y_pred = lin_pred(X, w_current)\n",
    "      current_error = mse_error(y, y_pred)\n",
    "      errors.append(current_error)\n",
    "\n",
    "      # Выполняем шаг стохастического градиентного спуска\n",
    "      w_current = stoch_grad_step(X, y, w_current, random_index, eta)\n",
    "\n",
    "      # Вычисляем расстояние между векторами весов\n",
    "      weight_distance = np.linalg.norm(w_current - w_previous)\n",
    "\n",
    "      # Увеличиваем счетчик итераций\n",
    "      iter_count += 1\n",
    "\n",
    "  return w_current, errors"
   ]
  },
  {
   "cell_type": "markdown",
   "metadata": {
    "id": "0OqHO1Rta_Z7"
   },
   "source": [
    " **Запустите $10^5$ итераций стохастического градиентного спуска. Укажите вектор начальных весов, состоящий из нулей. Можете поэкспериментировать с параметром, отвечающим за темп обучения.**"
   ]
  },
  {
   "cell_type": "markdown",
   "metadata": {
    "id": "N6fHHT6vDUK8"
   },
   "source": [
    "**Постройте график зависимости ошибки от номера итерации**"
   ]
  },
  {
   "cell_type": "code",
   "execution_count": 15,
   "metadata": {
    "id": "zsSfHDzLDUK9"
   },
   "outputs": [
    {
     "data": {
      "image/png": "[encoded data removed]",
      "text/plain": [
       "<Figure size 1200x600 with 1 Axes>"
      ]
     },
     "metadata": {},
     "output_type": "display_data"
    }
   ],
   "source": [
    "%matplotlib inline\n",
    "from matplotlib import pyplot as plt\n",
    "# Используем встроенный стиль matplotlib\n",
    "plt.style.use('fivethirtyeight')  # или 'ggplot', или 'classic'\n",
    "# Инициализация параметров\n",
    "n_iterations = 100000\n",
    "w_init = np.zeros(X.shape[1])\n",
    "learning_rates = [0.001, 0.01, 0.1]\n",
    "\n",
    "# Словарь для хранения результатов\n",
    "results = {}\n",
    "\n",
    "# Запуск SGD с разными темпами обучения\n",
    "for eta in learning_rates:\n",
    "  w_final, errors = stochastic_gradient_descent(\n",
    "      X, y, w_init.copy(), \n",
    "      eta=eta, \n",
    "      max_iter=n_iterations, \n",
    "      eps=1e-8\n",
    "  )\n",
    "  results[eta] = {\n",
    "      'weights': w_final,\n",
    "      'errors': errors\n",
    "  }\n",
    "\n",
    "# Создание графика\n",
    "fig, ax = plt.subplots(figsize=(12, 6))\n",
    "\n",
    "# Цвета для разных темпов обучения\n",
    "colors = ['#FF9999', '#66B2FF', '#99FF99']\n",
    "\n",
    "# Построение графиков для каждого темпа обучения\n",
    "for (eta, result), color in zip(results.items(), colors):\n",
    "  ax.plot(result['errors'], label=f'η = {eta}', color=color, linewidth=2)\n",
    "\n",
    "# Настройка графика\n",
    "ax.set_title('Зависимость ошибки от номера итерации', fontsize=14, pad=15)\n",
    "ax.set_xlabel('Номер итерации', fontsize=12)\n",
    "ax.set_ylabel('Ошибка (MSE)', fontsize=12)\n",
    "ax.set_yscale('log')\n",
    "ax.grid(True, alpha=0.3)\n",
    "ax.legend(fontsize=10, frameon=True)\n",
    "\n",
    "# Улучшение внешнего вида\n",
    "plt.tight_layout()\n"
   ]
  },
  {
   "cell_type": "markdown",
   "metadata": {
    "id": "O-MVOcJ6a_aY"
   },
   "source": [
    "**Выведите вектор весов, к которому сошелся метод.**"
   ]
  },
  {
   "cell_type": "code",
   "execution_count": 16,
   "metadata": {
    "id": "MPjVkXe4DUK9"
   },
   "outputs": [
    {
     "name": "stdout",
     "output_type": "stream",
     "text": [
      "Финальные веса для разных темпов обучения:\n",
      "\n",
      "Темп обучения η = 0.001:\n",
      "MSE: 81.984510\n",
      "Веса:\n",
      "w0 (свободный член) = 6.481577\n",
      "w1 (TV) = 0.458317\n",
      "w2 (radio) = 0.485423\n",
      "w3 (newspaper) = 0.457648\n",
      "\n",
      "Темп обучения η = 0.01:\n",
      "MSE: 25.890358\n",
      "Веса:\n",
      "w0 (свободный член) = 13.613320\n",
      "w1 (TV) = 0.962607\n",
      "w2 (radio) = 2.260807\n",
      "w3 (newspaper) = 1.921300\n",
      "\n",
      "Темп обучения η = 0.1:\n",
      "MSE: 20.581506\n",
      "Веса:\n",
      "w0 (свободный член) = 12.255788\n",
      "w1 (TV) = 0.866615\n",
      "w2 (radio) = 14.137672\n",
      "w3 (newspaper) = 11.039723\n",
      "\n",
      "==================================================\n",
      "\n",
      "Наилучший результат (η = 0.1):\n",
      "MSE: 20.581506\n",
      "\n",
      "Итоговое уравнение регрессии:\n",
      "sales = 12.255788 + 0.866615*TV + 14.137672*radio + 11.039723*newspaper\n"
     ]
    }
   ],
   "source": [
    "# Вывод весов для каждого темпа обучения\n",
    "print(\"Финальные веса для разных темпов обучения:\")\n",
    "for eta, result in results.items():\n",
    "  mse = result['errors'][-1]  # Последняя ошибка\n",
    "  weights = result['weights']\n",
    "  print(f\"\\nТемп обучения η = {eta}:\")\n",
    "  print(f\"MSE: {mse:.6f}\")\n",
    "  print(\"Веса:\")\n",
    "  print(f\"w0 (свободный член) = {weights[0]:.6f}\")\n",
    "  print(f\"w1 (TV) = {weights[1]:.6f}\")\n",
    "  print(f\"w2 (radio) = {weights[2]:.6f}\")\n",
    "  print(f\"w3 (newspaper) = {weights[3]:.6f}\")\n",
    "\n",
    "# Находим темп обучения с наименьшей ошибкой\n",
    "best_eta = min(results.items(), key=lambda x: x[1]['errors'][-1])[0]\n",
    "best_weights = results[best_eta]['weights']\n",
    "best_mse = results[best_eta]['errors'][-1]\n",
    "\n",
    "print(\"\\n\" + \"=\"*50)\n",
    "print(f\"\\nНаилучший результат (η = {best_eta}):\")\n",
    "print(f\"MSE: {best_mse:.6f}\")\n",
    "print(\"\\nИтоговое уравнение регрессии:\")\n",
    "print(f\"sales = {best_weights[0]:.6f} + {best_weights[1]:.6f}*TV + {best_weights[2]:.6f}*radio + {best_weights[3]:.6f}*newspaper\")"
   ]
  },
  {
   "cell_type": "markdown",
   "metadata": {
    "id": "qabzMc3Qa_a5"
   },
   "source": [
    "**Выведите среднеквадратичную ошибку на последней итерации.**"
   ]
  },
  {
   "cell_type": "code",
   "execution_count": 17,
   "metadata": {
    "id": "7tPWleMIa_a7"
   },
   "outputs": [
    {
     "name": "stdout",
     "output_type": "stream",
     "text": [
      "Среднеквадратичная ошибка (MSE) на последней итерации:\n",
      "--------------------------------------------------\n",
      "η = 0.001  MSE = 81.984510\n",
      "η = 0.01   MSE = 25.890358\n",
      "η = 0.1    MSE = 20.581506\n",
      "\n",
      "Наилучший результат:\n",
      "Темп обучения η = 0.1\n",
      "MSE = 20.581506\n",
      "\n",
      "MSE наивного прогноза: 27.085744\n",
      "Улучшение относительно наивного прогноза: 24.01%\n"
     ]
    }
   ],
   "source": [
    "# Вывод среднеквадратичной ошибки на последней итерации для каждого темпа обучения\n",
    "print(\"Среднеквадратичная ошибка (MSE) на последней итерации:\")\n",
    "print(\"-\" * 50)\n",
    "\n",
    "for eta, result in results.items():\n",
    "  final_mse = result['errors'][-1]\n",
    "  print(f\"η = {eta:<6} MSE = {final_mse:.6f}\")\n",
    "\n",
    "# Находим наилучший результат\n",
    "best_eta = min(results.items(), key=lambda x: x[1]['errors'][-1])[0]\n",
    "best_mse = results[best_eta]['errors'][-1]\n",
    "\n",
    "print(\"\\nНаилучший результат:\")\n",
    "print(f\"Темп обучения η = {best_eta}\")\n",
    "print(f\"MSE = {best_mse:.6f}\")\n",
    "\n",
    "# Для сравнения с наивным прогнозом\n",
    "naive_mse = np.mean((y - np.mean(y))**2)\n",
    "print(f\"\\nMSE наивного прогноза: {naive_mse:.6f}\")\n",
    "\n",
    "# Вычисление улучшения относительно наивного прогноза\n",
    "improvement = ((naive_mse - best_mse) / naive_mse) * 100\n",
    "print(f\"Улучшение относительно наивного прогноза: {improvement:.2f}%\")"
   ]
  }
 ],
 "metadata": {
  "colab": {
   "collapsed_sections": [],
   "name": "Практика_Оптимизация.ipynb",
   "provenance": [],
   "toc_visible": true
  },
  "kernelspec": {
   "display_name": "Python 3",
   "language": "python",
   "name": "python3"
  },
  "language_info": {
   "codemirror_mode": {
    "name": "ipython",
    "version": 3
   },
   "file_extension": ".py",
   "mimetype": "text/x-python",
   "name": "python",
   "nbconvert_exporter": "python",
   "pygments_lexer": "ipython3",
   "version": "3.12.3"
  }
 },
 "nbformat": 4,
 "nbformat_minor": 0
}
