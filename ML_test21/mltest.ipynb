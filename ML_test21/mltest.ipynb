{
 "cells": [
  {
   "cell_type": "code",
   "execution_count": 1,
   "metadata": {},
   "outputs": [
    {
     "data": {
      "text/plain": [
       "array([ 1.,  2.,  3., 37.])"
      ]
     },
     "execution_count": 1,
     "metadata": {},
     "output_type": "execute_result"
    }
   ],
   "source": [
    "import numpy as np\n",
    "from sklearn.linear_model import LinearRegression\n",
    "\n",
    "# Данные для обучения\n",
    "X = np.array([[1, 1, 1], [1, 2, 2], [2, 2, 3], [2, 3, 5]])\n",
    "y = np.array([9, 14, 18, 26])\n",
    "\n",
    "# Значение переменных для прогноза\n",
    "X_pred = np.array([[3, 5, 7]])\n",
    "\n",
    "# Обучение модели\n",
    "model = LinearRegression()\n",
    "model.fit(X, y)\n",
    "\n",
    "# Коэффициенты модели\n",
    "a, b, c = model.coef_\n",
    "d = model.intercept_\n",
    "\n",
    "# Прогнозирование\n",
    "y_pred = model.predict(X_pred)[0]\n",
    "\n",
    "# Результат\n",
    "answer = np.array([a, b, c, y_pred])\n",
    "answer"
   ]
  },
  {
   "cell_type": "code",
   "execution_count": 5,
   "metadata": {},
   "outputs": [
    {
     "data": {
      "text/plain": [
       "(4, np.float64(9.347))"
      ]
     },
     "execution_count": 5,
     "metadata": {},
     "output_type": "execute_result"
    }
   ],
   "source": [
    "import pandas as pd\n",
    "import numpy as np\n",
    "from sklearn.cluster import KMeans\n",
    "import matplotlib.pyplot as plt\n",
    "\n",
    "\n",
    "file_path = '/Users/mmms/Developer/ML_test21/Electric_Car.csv'\n",
    "\n",
    "# Loading the dataset\n",
    "df = pd.read_csv(file_path)\n",
    "\n",
    "# Selecting only the required columns\n",
    "df = df[[\"AccelSec\", \"TopSpeed_KmH\", \"Range_Km\", \"PriceEuro\"]]\n",
    "\n",
    "# Normalizing the data\n",
    "df_normalized = (df - df.mean()) / df.std()\n",
    "\n",
    "# Determining the optimal number of clusters using the elbow method\n",
    "sum_of_squared_distances = []\n",
    "K = range(1, 11)\n",
    "for k in K:\n",
    "    kmeans = KMeans(n_clusters=k, random_state=0)\n",
    "    kmeans.fit(df_normalized)\n",
    "    sum_of_squared_distances.append(kmeans.inertia_)\n",
    "\n",
    "# Selecting the optimal number of clusters by inspecting the elbow point\n",
    "optimal_clusters = 4  # Placeholder, will confirm by visualization\n",
    "\n",
    "# Applying K-means with the optimal number of clusters\n",
    "kmeans = KMeans(n_clusters=optimal_clusters, random_state=0)\n",
    "kmeans.fit(df_normalized)\n",
    "\n",
    "# Calculating cluster centers and the norm\n",
    "cluster_centers = kmeans.cluster_centers_\n",
    "norm_result = np.linalg.norm(cluster_centers)\n",
    "\n",
    "optimal_clusters, round(norm_result, 3)"
   ]
  }
 ],
 "metadata": {
  "kernelspec": {
   "display_name": "Python 3",
   "language": "python",
   "name": "python3"
  },
  "language_info": {
   "codemirror_mode": {
    "name": "ipython",
    "version": 3
   },
   "file_extension": ".py",
   "mimetype": "text/x-python",
   "name": "python",
   "nbconvert_exporter": "python",
   "pygments_lexer": "ipython3",
   "version": "3.12.3"
  }
 },
 "nbformat": 4,
 "nbformat_minor": 2
}
