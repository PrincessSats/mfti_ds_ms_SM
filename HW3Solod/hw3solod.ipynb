{
 "cells": [
  {
   "cell_type": "code",
   "execution_count": 1,
   "metadata": {},
   "outputs": [],
   "source": [
    "import pandas as pd\n",
    "import numpy as np"
   ]
  },
  {
   "cell_type": "markdown",
   "metadata": {},
   "source": [
    "Загрузка данных"
   ]
  },
  {
   "cell_type": "code",
   "execution_count": 2,
   "metadata": {},
   "outputs": [],
   "source": [
    "train = pd.read_csv(\"data/train.csv\")\n",
    "\n",
    "questions = pd.read_csv('data/questions.csv')\n",
    "\n",
    "lectures = pd.read_csv('data/lectures.csv')"
   ]
  },
  {
   "cell_type": "markdown",
   "metadata": {},
   "source": [
    "Просмотр первых строк каждого набора данных"
   ]
  },
  {
   "cell_type": "code",
   "execution_count": 6,
   "metadata": {},
   "outputs": [
    {
     "data": {
      "text/html": [
       "<div>\n",
       "<style scoped>\n",
       "    .dataframe tbody tr th:only-of-type {\n",
       "        vertical-align: middle;\n",
       "    }\n",
       "\n",
       "    .dataframe tbody tr th {\n",
       "        vertical-align: top;\n",
       "    }\n",
       "\n",
       "    .dataframe thead th {\n",
       "        text-align: right;\n",
       "    }\n",
       "</style>\n",
       "<table border=\"1\" class=\"dataframe\">\n",
       "  <thead>\n",
       "    <tr style=\"text-align: right;\">\n",
       "      <th></th>\n",
       "      <th>row_id</th>\n",
       "      <th>timestamp</th>\n",
       "      <th>user_id</th>\n",
       "      <th>content_id</th>\n",
       "      <th>content_type_id</th>\n",
       "      <th>task_container_id</th>\n",
       "      <th>user_answer</th>\n",
       "      <th>answered_correctly</th>\n",
       "      <th>prior_question_elapsed_time</th>\n",
       "      <th>prior_question_had_explanation</th>\n",
       "    </tr>\n",
       "  </thead>\n",
       "  <tbody>\n",
       "    <tr>\n",
       "      <th>0</th>\n",
       "      <td>0</td>\n",
       "      <td>0</td>\n",
       "      <td>115</td>\n",
       "      <td>5692</td>\n",
       "      <td>0</td>\n",
       "      <td>1</td>\n",
       "      <td>3</td>\n",
       "      <td>1</td>\n",
       "      <td>NaN</td>\n",
       "      <td>NaN</td>\n",
       "    </tr>\n",
       "    <tr>\n",
       "      <th>1</th>\n",
       "      <td>1</td>\n",
       "      <td>56943</td>\n",
       "      <td>115</td>\n",
       "      <td>5716</td>\n",
       "      <td>0</td>\n",
       "      <td>2</td>\n",
       "      <td>2</td>\n",
       "      <td>1</td>\n",
       "      <td>37000.0</td>\n",
       "      <td>False</td>\n",
       "    </tr>\n",
       "    <tr>\n",
       "      <th>2</th>\n",
       "      <td>2</td>\n",
       "      <td>118363</td>\n",
       "      <td>115</td>\n",
       "      <td>128</td>\n",
       "      <td>0</td>\n",
       "      <td>0</td>\n",
       "      <td>0</td>\n",
       "      <td>1</td>\n",
       "      <td>55000.0</td>\n",
       "      <td>False</td>\n",
       "    </tr>\n",
       "    <tr>\n",
       "      <th>3</th>\n",
       "      <td>3</td>\n",
       "      <td>131167</td>\n",
       "      <td>115</td>\n",
       "      <td>7860</td>\n",
       "      <td>0</td>\n",
       "      <td>3</td>\n",
       "      <td>0</td>\n",
       "      <td>1</td>\n",
       "      <td>19000.0</td>\n",
       "      <td>False</td>\n",
       "    </tr>\n",
       "    <tr>\n",
       "      <th>4</th>\n",
       "      <td>4</td>\n",
       "      <td>137965</td>\n",
       "      <td>115</td>\n",
       "      <td>7922</td>\n",
       "      <td>0</td>\n",
       "      <td>4</td>\n",
       "      <td>1</td>\n",
       "      <td>1</td>\n",
       "      <td>11000.0</td>\n",
       "      <td>False</td>\n",
       "    </tr>\n",
       "  </tbody>\n",
       "</table>\n",
       "</div>"
      ],
      "text/plain": [
       "   row_id  timestamp  user_id  content_id  content_type_id  task_container_id  \\\n",
       "0       0          0      115        5692                0                  1   \n",
       "1       1      56943      115        5716                0                  2   \n",
       "2       2     118363      115         128                0                  0   \n",
       "3       3     131167      115        7860                0                  3   \n",
       "4       4     137965      115        7922                0                  4   \n",
       "\n",
       "   user_answer  answered_correctly  prior_question_elapsed_time  \\\n",
       "0            3                   1                          NaN   \n",
       "1            2                   1                      37000.0   \n",
       "2            0                   1                      55000.0   \n",
       "3            0                   1                      19000.0   \n",
       "4            1                   1                      11000.0   \n",
       "\n",
       "  prior_question_had_explanation  \n",
       "0                            NaN  \n",
       "1                          False  \n",
       "2                          False  \n",
       "3                          False  \n",
       "4                          False  "
      ]
     },
     "execution_count": 6,
     "metadata": {},
     "output_type": "execute_result"
    }
   ],
   "source": [
    "train.head()"
   ]
  },
  {
   "cell_type": "code",
   "execution_count": 7,
   "metadata": {},
   "outputs": [
    {
     "data": {
      "text/html": [
       "<div>\n",
       "<style scoped>\n",
       "    .dataframe tbody tr th:only-of-type {\n",
       "        vertical-align: middle;\n",
       "    }\n",
       "\n",
       "    .dataframe tbody tr th {\n",
       "        vertical-align: top;\n",
       "    }\n",
       "\n",
       "    .dataframe thead th {\n",
       "        text-align: right;\n",
       "    }\n",
       "</style>\n",
       "<table border=\"1\" class=\"dataframe\">\n",
       "  <thead>\n",
       "    <tr style=\"text-align: right;\">\n",
       "      <th></th>\n",
       "      <th>question_id</th>\n",
       "      <th>bundle_id</th>\n",
       "      <th>correct_answer</th>\n",
       "      <th>part</th>\n",
       "      <th>tags</th>\n",
       "    </tr>\n",
       "  </thead>\n",
       "  <tbody>\n",
       "    <tr>\n",
       "      <th>0</th>\n",
       "      <td>0</td>\n",
       "      <td>0</td>\n",
       "      <td>0</td>\n",
       "      <td>1</td>\n",
       "      <td>51 131 162 38</td>\n",
       "    </tr>\n",
       "    <tr>\n",
       "      <th>1</th>\n",
       "      <td>1</td>\n",
       "      <td>1</td>\n",
       "      <td>1</td>\n",
       "      <td>1</td>\n",
       "      <td>131 36 81</td>\n",
       "    </tr>\n",
       "    <tr>\n",
       "      <th>2</th>\n",
       "      <td>2</td>\n",
       "      <td>2</td>\n",
       "      <td>0</td>\n",
       "      <td>1</td>\n",
       "      <td>131 101 162 92</td>\n",
       "    </tr>\n",
       "    <tr>\n",
       "      <th>3</th>\n",
       "      <td>3</td>\n",
       "      <td>3</td>\n",
       "      <td>0</td>\n",
       "      <td>1</td>\n",
       "      <td>131 149 162 29</td>\n",
       "    </tr>\n",
       "    <tr>\n",
       "      <th>4</th>\n",
       "      <td>4</td>\n",
       "      <td>4</td>\n",
       "      <td>3</td>\n",
       "      <td>1</td>\n",
       "      <td>131 5 162 38</td>\n",
       "    </tr>\n",
       "  </tbody>\n",
       "</table>\n",
       "</div>"
      ],
      "text/plain": [
       "   question_id  bundle_id  correct_answer  part            tags\n",
       "0            0          0               0     1   51 131 162 38\n",
       "1            1          1               1     1       131 36 81\n",
       "2            2          2               0     1  131 101 162 92\n",
       "3            3          3               0     1  131 149 162 29\n",
       "4            4          4               3     1    131 5 162 38"
      ]
     },
     "execution_count": 7,
     "metadata": {},
     "output_type": "execute_result"
    }
   ],
   "source": [
    "questions.head()"
   ]
  },
  {
   "cell_type": "code",
   "execution_count": 8,
   "metadata": {},
   "outputs": [
    {
     "data": {
      "text/html": [
       "<div>\n",
       "<style scoped>\n",
       "    .dataframe tbody tr th:only-of-type {\n",
       "        vertical-align: middle;\n",
       "    }\n",
       "\n",
       "    .dataframe tbody tr th {\n",
       "        vertical-align: top;\n",
       "    }\n",
       "\n",
       "    .dataframe thead th {\n",
       "        text-align: right;\n",
       "    }\n",
       "</style>\n",
       "<table border=\"1\" class=\"dataframe\">\n",
       "  <thead>\n",
       "    <tr style=\"text-align: right;\">\n",
       "      <th></th>\n",
       "      <th>lecture_id</th>\n",
       "      <th>tag</th>\n",
       "      <th>part</th>\n",
       "      <th>type_of</th>\n",
       "    </tr>\n",
       "  </thead>\n",
       "  <tbody>\n",
       "    <tr>\n",
       "      <th>0</th>\n",
       "      <td>89</td>\n",
       "      <td>159</td>\n",
       "      <td>5</td>\n",
       "      <td>concept</td>\n",
       "    </tr>\n",
       "    <tr>\n",
       "      <th>1</th>\n",
       "      <td>100</td>\n",
       "      <td>70</td>\n",
       "      <td>1</td>\n",
       "      <td>concept</td>\n",
       "    </tr>\n",
       "    <tr>\n",
       "      <th>2</th>\n",
       "      <td>185</td>\n",
       "      <td>45</td>\n",
       "      <td>6</td>\n",
       "      <td>concept</td>\n",
       "    </tr>\n",
       "    <tr>\n",
       "      <th>3</th>\n",
       "      <td>192</td>\n",
       "      <td>79</td>\n",
       "      <td>5</td>\n",
       "      <td>solving question</td>\n",
       "    </tr>\n",
       "    <tr>\n",
       "      <th>4</th>\n",
       "      <td>317</td>\n",
       "      <td>156</td>\n",
       "      <td>5</td>\n",
       "      <td>solving question</td>\n",
       "    </tr>\n",
       "  </tbody>\n",
       "</table>\n",
       "</div>"
      ],
      "text/plain": [
       "   lecture_id  tag  part           type_of\n",
       "0          89  159     5           concept\n",
       "1         100   70     1           concept\n",
       "2         185   45     6           concept\n",
       "3         192   79     5  solving question\n",
       "4         317  156     5  solving question"
      ]
     },
     "execution_count": 8,
     "metadata": {},
     "output_type": "execute_result"
    }
   ],
   "source": [
    "lectures.head()"
   ]
  },
  {
   "cell_type": "markdown",
   "metadata": {},
   "source": [
    "Проверка информации о наборах данных"
   ]
  },
  {
   "cell_type": "code",
   "execution_count": 9,
   "metadata": {},
   "outputs": [
    {
     "name": "stdout",
     "output_type": "stream",
     "text": [
      "<class 'pandas.core.frame.DataFrame'>\n",
      "RangeIndex: 101230332 entries, 0 to 101230331\n",
      "Data columns (total 10 columns):\n",
      " #   Column                          Dtype  \n",
      "---  ------                          -----  \n",
      " 0   row_id                          int64  \n",
      " 1   timestamp                       int64  \n",
      " 2   user_id                         int64  \n",
      " 3   content_id                      int64  \n",
      " 4   content_type_id                 int64  \n",
      " 5   task_container_id               int64  \n",
      " 6   user_answer                     int64  \n",
      " 7   answered_correctly              int64  \n",
      " 8   prior_question_elapsed_time     float64\n",
      " 9   prior_question_had_explanation  object \n",
      "dtypes: float64(1), int64(8), object(1)\n",
      "memory usage: 7.5+ GB\n"
     ]
    }
   ],
   "source": [
    "train.info()"
   ]
  },
  {
   "cell_type": "code",
   "execution_count": 10,
   "metadata": {},
   "outputs": [
    {
     "name": "stdout",
     "output_type": "stream",
     "text": [
      "<class 'pandas.core.frame.DataFrame'>\n",
      "RangeIndex: 13523 entries, 0 to 13522\n",
      "Data columns (total 5 columns):\n",
      " #   Column          Non-Null Count  Dtype \n",
      "---  ------          --------------  ----- \n",
      " 0   question_id     13523 non-null  int64 \n",
      " 1   bundle_id       13523 non-null  int64 \n",
      " 2   correct_answer  13523 non-null  int64 \n",
      " 3   part            13523 non-null  int64 \n",
      " 4   tags            13522 non-null  object\n",
      "dtypes: int64(4), object(1)\n",
      "memory usage: 528.4+ KB\n"
     ]
    }
   ],
   "source": [
    "questions.info()"
   ]
  },
  {
   "cell_type": "code",
   "execution_count": 11,
   "metadata": {},
   "outputs": [
    {
     "name": "stdout",
     "output_type": "stream",
     "text": [
      "<class 'pandas.core.frame.DataFrame'>\n",
      "RangeIndex: 418 entries, 0 to 417\n",
      "Data columns (total 4 columns):\n",
      " #   Column      Non-Null Count  Dtype \n",
      "---  ------      --------------  ----- \n",
      " 0   lecture_id  418 non-null    int64 \n",
      " 1   tag         418 non-null    int64 \n",
      " 2   part        418 non-null    int64 \n",
      " 3   type_of     418 non-null    object\n",
      "dtypes: int64(3), object(1)\n",
      "memory usage: 13.2+ KB\n"
     ]
    }
   ],
   "source": [
    "lectures.info()"
   ]
  },
  {
   "cell_type": "markdown",
   "metadata": {},
   "source": [
    "Проверка наличия пропущенных значений"
   ]
  },
  {
   "cell_type": "code",
   "execution_count": 12,
   "metadata": {},
   "outputs": [
    {
     "data": {
      "text/plain": [
       "row_id                                  0\n",
       "timestamp                               0\n",
       "user_id                                 0\n",
       "content_id                              0\n",
       "content_type_id                         0\n",
       "task_container_id                       0\n",
       "user_answer                             0\n",
       "answered_correctly                      0\n",
       "prior_question_elapsed_time       2351538\n",
       "prior_question_had_explanation     392506\n",
       "dtype: int64"
      ]
     },
     "execution_count": 12,
     "metadata": {},
     "output_type": "execute_result"
    }
   ],
   "source": [
    "train.isnull().sum()"
   ]
  },
  {
   "cell_type": "code",
   "execution_count": 13,
   "metadata": {},
   "outputs": [
    {
     "data": {
      "text/plain": [
       "question_id       0\n",
       "bundle_id         0\n",
       "correct_answer    0\n",
       "part              0\n",
       "tags              1\n",
       "dtype: int64"
      ]
     },
     "execution_count": 13,
     "metadata": {},
     "output_type": "execute_result"
    }
   ],
   "source": [
    "questions.isnull().sum()"
   ]
  },
  {
   "cell_type": "code",
   "execution_count": 14,
   "metadata": {},
   "outputs": [
    {
     "data": {
      "text/plain": [
       "lecture_id    0\n",
       "tag           0\n",
       "part          0\n",
       "type_of       0\n",
       "dtype: int64"
      ]
     },
     "execution_count": 14,
     "metadata": {},
     "output_type": "execute_result"
    }
   ],
   "source": [
    "lectures.isnull().sum()"
   ]
  },
  {
   "cell_type": "markdown",
   "metadata": {},
   "source": [
    "Убедимся, что столбцы имеют правильные типы данных. Если необходимо, преобразуем их."
   ]
  },
  {
   "cell_type": "code",
   "execution_count": 15,
   "metadata": {},
   "outputs": [
    {
     "data": {
      "text/plain": [
       "row_id                              int64\n",
       "timestamp                           int64\n",
       "user_id                             int64\n",
       "content_id                          int64\n",
       "content_type_id                     int64\n",
       "task_container_id                   int64\n",
       "user_answer                         int64\n",
       "answered_correctly                  int64\n",
       "prior_question_elapsed_time       float64\n",
       "prior_question_had_explanation     object\n",
       "dtype: object"
      ]
     },
     "execution_count": 15,
     "metadata": {},
     "output_type": "execute_result"
    }
   ],
   "source": [
    "train.dtypes"
   ]
  },
  {
   "cell_type": "code",
   "execution_count": 17,
   "metadata": {},
   "outputs": [],
   "source": [
    "# Разделение данных на вопросы и лекции\n",
    "train_questions = train[train['content_type_id'] == 0].copy()\n",
    "train_lectures = train[train['content_type_id'] == 1].copy()"
   ]
  },
  {
   "cell_type": "code",
   "execution_count": 18,
   "metadata": {},
   "outputs": [],
   "source": [
    "# Объединение train_questions с questions.csv по content_id и question_id\n",
    "train_questions = train_questions.merge(questions, how='left', left_on='content_id', right_on='question_id')"
   ]
  },
  {
   "cell_type": "markdown",
   "metadata": {},
   "source": [
    "Распределение правильных и неправильных ответов"
   ]
  },
  {
   "cell_type": "code",
   "execution_count": 22,
   "metadata": {},
   "outputs": [
    {
     "name": "stdout",
     "output_type": "stream",
     "text": [
      "answered_correctly\n",
      "1    65244627\n",
      "0    34026673\n",
      "Name: count, dtype: int64\n"
     ]
    }
   ],
   "source": [
    "# Подсчет количества правильных и неправильных ответов\n",
    "answer_counts = train_questions['answered_correctly'].value_counts()\n",
    "\n",
    "print(answer_counts)"
   ]
  },
  {
   "cell_type": "markdown",
   "metadata": {},
   "source": [
    "Вывод:\n",
    "Большинство ответов студентов являются правильными, что может свидетельствовать о достаточном уровне подготовки или эффективности обучающего материала."
   ]
  },
  {
   "cell_type": "markdown",
   "metadata": {},
   "source": [
    "Влияние времени, затраченного на предыдущие вопросы, на успеваемость"
   ]
  },
  {
   "cell_type": "code",
   "execution_count": 23,
   "metadata": {},
   "outputs": [
    {
     "name": "stderr",
     "output_type": "stream",
     "text": [
      "/var/folders/1s/5zrmnc61429fjndvw10l0mb80000gn/T/ipykernel_53161/259696149.py:5: FutureWarning: The default of observed=False is deprecated and will be changed to True in a future version of pandas. Pass observed=False to retain current behavior or observed=True to adopt the future default and silence this warning.\n",
      "  elapsed_time_accuracy = train_questions.groupby('elapsed_time_bins')['answered_correctly'].mean()\n"
     ]
    },
    {
     "name": "stdout",
     "output_type": "stream",
     "text": [
      "\n",
      "Средний процент правильных ответов в зависимости от времени на предыдущий вопрос:\n",
      "elapsed_time_bins\n",
      "(-300.0, 30000.0]       0.662263\n",
      "(30000.0, 60000.0]      0.640120\n",
      "(60000.0, 90000.0]      0.649248\n",
      "(90000.0, 120000.0]     0.637229\n",
      "(120000.0, 150000.0]    0.627435\n",
      "(150000.0, 180000.0]    0.621926\n",
      "(180000.0, 210000.0]    0.619436\n",
      "(210000.0, 240000.0]    0.618372\n",
      "(240000.0, 270000.0]    0.621057\n",
      "(270000.0, 300000.0]    0.618686\n",
      "Name: answered_correctly, dtype: float64\n"
     ]
    }
   ],
   "source": [
    "# Создание групп по времени, затраченному на предыдущие вопросы\n",
    "train_questions['elapsed_time_bins'] = pd.cut(train_questions['prior_question_elapsed_time'], bins=10)\n",
    "\n",
    "# Расчет среднего процента правильных ответов для каждой группы времени\n",
    "elapsed_time_accuracy = train_questions.groupby('elapsed_time_bins')['answered_correctly'].mean()\n",
    "\n",
    "print(\"\\nСредний процент правильных ответов в зависимости от времени на предыдущий вопрос:\")\n",
    "print(elapsed_time_accuracy)"
   ]
  },
  {
   "cell_type": "markdown",
   "metadata": {},
   "source": [
    "Интерпретация:\n",
    "Общая тенденция: с увеличением времени, затраченного на предыдущие вопросы, средний процент правильных ответов снижается.\n",
    "Наименьшее время (до 30 000 мс): самый высокий средний процент правильных ответов (66,23%).\n",
    "Наибольшее время (от 270 000 мс): самый низкий средний процент правильных ответов (61,87%).\n",
    "Вывод:\n",
    "Быстрые ответы на предыдущие вопросы могут свидетельствовать о уверенности и хорошей подготовке студентов, что положительно сказывается на последующей успеваемости.\n",
    "Длительное время на предыдущие вопросы может указывать на затруднения, усталость или потерю концентрации, что негативно влияет на успех в следующих заданиях."
   ]
  },
  {
   "cell_type": "markdown",
   "metadata": {},
   "source": [
    "Влияние наличия объяснения на предыдущий вопрос на успеваемость"
   ]
  },
  {
   "cell_type": "code",
   "execution_count": 24,
   "metadata": {},
   "outputs": [
    {
     "name": "stdout",
     "output_type": "stream",
     "text": [
      "\n",
      "Средний процент правильных ответов в зависимости от наличия объяснения к предыдущему вопросу:\n",
      "prior_question_had_explanation\n",
      "False    0.507977\n",
      "True     0.673189\n",
      "Name: answered_correctly, dtype: float64\n"
     ]
    }
   ],
   "source": [
    "# Расчет среднего процента правильных ответов в зависимости от prior_question_had_explanation\n",
    "explanation_accuracy = train_questions.groupby('prior_question_had_explanation')['answered_correctly'].mean()\n",
    "\n",
    "print(\"\\nСредний процент правильных ответов в зависимости от наличия объяснения к предыдущему вопросу:\")\n",
    "print(explanation_accuracy)"
   ]
  },
  {
   "cell_type": "markdown",
   "metadata": {},
   "source": [
    "Интерпретация:\n",
    "Студенты, получившие объяснение к предыдущему вопросу, имеют средний процент правильных ответов 67,32%.\n",
    "Студенты без объяснения показывают средний результат 50,80%.\n",
    "Вывод:\n",
    "Наличие объяснения после ответа на вопрос значительно повышает успеваемость студентов в последующих заданиях.\n",
    "Рекомендация: интеграция объяснений и разборов после вопросов может улучшить общую успеваемость."
   ]
  },
  {
   "cell_type": "markdown",
   "metadata": {},
   "source": [
    "Влияние части теста (part) на успеваемость"
   ]
  },
  {
   "cell_type": "code",
   "execution_count": 25,
   "metadata": {},
   "outputs": [
    {
     "name": "stdout",
     "output_type": "stream",
     "text": [
      "\n",
      "Средний процент правильных ответов по частям теста:\n",
      "part\n",
      "1    0.745032\n",
      "2    0.708694\n",
      "3    0.701456\n",
      "6    0.669388\n",
      "7    0.659601\n",
      "4    0.630998\n",
      "5    0.610088\n",
      "Name: answered_correctly, dtype: float64\n"
     ]
    }
   ],
   "source": [
    "# Расчет среднего процента правильных ответов по каждой части теста\n",
    "part_accuracy = train_questions.groupby('part')['answered_correctly'].mean().sort_values(ascending=False)\n",
    "\n",
    "print(\"\\nСредний процент правильных ответов по частям теста:\")\n",
    "print(part_accuracy)"
   ]
  },
  {
   "cell_type": "markdown",
   "metadata": {},
   "source": [
    "Интерпретация:\n",
    "Часть 1: самый высокий средний процент правильных ответов (74,50%).\n",
    "Часть 5: самый низкий средний процент правильных ответов (61,01%).\n",
    "Разница между частями: успеваемость варьируется от части к части.\n",
    "Вывод:\n",
    "Сложность разделов: некоторые части теста являются более сложными для студентов.\n"
   ]
  },
  {
   "cell_type": "markdown",
   "metadata": {},
   "source": [
    "Влияние тега вопроса (tags) на успеваемость"
   ]
  },
  {
   "cell_type": "code",
   "execution_count": 26,
   "metadata": {},
   "outputs": [
    {
     "name": "stdout",
     "output_type": "stream",
     "text": [
      "\n",
      "Средний процент правильных ответов по первым тегам (топ 10):\n",
      "first_tag\n",
      "38.0     0.944345\n",
      "41.0     0.806974\n",
      "177.0    0.801152\n",
      "51.0     0.796269\n",
      "131.0    0.795531\n",
      "115.0    0.789888\n",
      "32.0     0.769989\n",
      "129.0    0.747204\n",
      "137.0    0.738926\n",
      "62.0     0.738633\n",
      "Name: answered_correctly, dtype: float64\n"
     ]
    }
   ],
   "source": [
    "# Выделение первого тега\n",
    "train_questions['first_tag'] = train_questions['tags'].apply(lambda x: int(str(x).split(' ')[0]) if pd.notnull(x) else np.nan)\n",
    "\n",
    "# Расчет среднего процента правильных ответов по первым тегам\n",
    "tag_accuracy = train_questions.groupby('first_tag')['answered_correctly'].mean().sort_values(ascending=False)\n",
    "\n",
    "print(\"\\nСредний процент правильных ответов по первым тегам (топ 10):\")\n",
    "print(tag_accuracy.head(10))"
   ]
  },
  {
   "cell_type": "markdown",
   "metadata": {},
   "source": [
    "Интерпретация:\n",
    "Тег 38.0: самый высокий средний процент правильных ответов (94,43%).\n",
    "Теги с высоким процентом правильных ответов могут указывать на темы, хорошо освоенные студентами или на более простые вопросы.\n",
    "Вывод:\n",
    "Определенные темы (теги) являются более понятными для студентов.\n"
   ]
  },
  {
   "cell_type": "markdown",
   "metadata": {},
   "source": [
    "Анализ опыта пользователя (количество ранее отвеченных вопросов)"
   ]
  },
  {
   "cell_type": "code",
   "execution_count": 27,
   "metadata": {},
   "outputs": [
    {
     "name": "stderr",
     "output_type": "stream",
     "text": [
      "/var/folders/1s/5zrmnc61429fjndvw10l0mb80000gn/T/ipykernel_53161/2201660114.py:11: FutureWarning: The default of observed=False is deprecated and will be changed to True in a future version of pandas. Pass observed=False to retain current behavior or observed=True to adopt the future default and silence this warning.\n",
      "  experience_accuracy = train_questions.groupby('question_count_bins')['answered_correctly'].mean()\n"
     ]
    },
    {
     "name": "stdout",
     "output_type": "stream",
     "text": [
      "\n",
      "Средний процент правильных ответов в зависимости от опыта пользователя:\n",
      "question_count_bins\n",
      "(-16.608, 1761.8]     0.644470\n",
      "(1761.8, 3522.6]      0.696169\n",
      "(3522.6, 5283.4]      0.709188\n",
      "(5283.4, 7044.2]      0.720542\n",
      "(7044.2, 8805.0]      0.725327\n",
      "(8805.0, 10565.8]     0.733045\n",
      "(10565.8, 12326.6]    0.752598\n",
      "(12326.6, 14087.4]    0.770685\n",
      "(14087.4, 15848.2]    0.799089\n",
      "(15848.2, 17609.0]    0.777380\n",
      "Name: answered_correctly, dtype: float64\n"
     ]
    }
   ],
   "source": [
    "# Сортировка данных по user_id и timestamp\n",
    "train_questions.sort_values(['user_id', 'timestamp'], inplace=True)\n",
    "\n",
    "# Добавление счетчика ранее отвеченных вопросов для каждого пользователя\n",
    "train_questions['user_question_count'] = train_questions.groupby('user_id').cumcount() + 1  # +1, чтобы счет начинался с 1\n",
    "\n",
    "# Создание бинов по количеству отвеченных вопросов\n",
    "train_questions['question_count_bins'] = pd.cut(train_questions['user_question_count'], bins=10)\n",
    "\n",
    "# Расчет среднего процента правильных ответов в зависимости от опыта\n",
    "experience_accuracy = train_questions.groupby('question_count_bins')['answered_correctly'].mean()\n",
    "\n",
    "print(\"\\nСредний процент правильных ответов в зависимости от опыта пользователя:\")\n",
    "print(experience_accuracy)"
   ]
  },
  {
   "cell_type": "markdown",
   "metadata": {},
   "source": [
    "Интерпретация:\n",
    "Рост опыта: с увеличением количества ранее отвеченных вопросов средний процент правильных ответов увеличивается.\n",
    "Начальный уровень (до ~1761 вопросов): средний процент правильных ответов 64,45%.\n",
    "Высокий уровень опыта (более ~14 000 вопросов): средний процент правильных ответов достигает до 79,91%.\n",
    "Вывод:\n",
    "Опыт положительно влияет на успеваемость студентов.\n"
   ]
  }
 ],
 "metadata": {
  "kernelspec": {
   "display_name": "Python 3",
   "language": "python",
   "name": "python3"
  },
  "language_info": {
   "codemirror_mode": {
    "name": "ipython",
    "version": 3
   },
   "file_extension": ".py",
   "mimetype": "text/x-python",
   "name": "python",
   "nbconvert_exporter": "python",
   "pygments_lexer": "ipython3",
   "version": "3.12.3"
  }
 },
 "nbformat": 4,
 "nbformat_minor": 2
}
