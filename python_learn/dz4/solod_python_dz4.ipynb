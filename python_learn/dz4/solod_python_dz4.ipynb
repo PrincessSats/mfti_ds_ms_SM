{
 "cells": [
  {
   "cell_type": "code",
   "execution_count": 27,
   "metadata": {},
   "outputs": [
    {
     "name": "stdout",
     "output_type": "stream",
     "text": [
      "\n",
      "\u001b[1m[\u001b[0m\u001b[34;49mnotice\u001b[0m\u001b[1;39;49m]\u001b[0m\u001b[39;49m A new release of pip is available: \u001b[0m\u001b[31;49m24.0\u001b[0m\u001b[39;49m -> \u001b[0m\u001b[32;49m24.3.1\u001b[0m\n",
      "\u001b[1m[\u001b[0m\u001b[34;49mnotice\u001b[0m\u001b[1;39;49m]\u001b[0m\u001b[39;49m To update, run: \u001b[0m\u001b[32;49mpip3 install --upgrade pip\u001b[0m\n",
      "Note: you may need to restart the kernel to use updated packages.\n"
     ]
    }
   ],
   "source": [
    "%pip install -q -U kaggle_environments"
   ]
  },
  {
   "cell_type": "code",
   "execution_count": 28,
   "metadata": {},
   "outputs": [
    {
     "name": "stdout",
     "output_type": "stream",
     "text": [
      "Writing rock_agent.py\n"
     ]
    }
   ],
   "source": [
    "%%writefile rock_agent.py\n",
    "\n",
    "# Agent that always plays Rock\n",
    "def rock_agent(observation, configuration):\n",
    "    return 0  # 0: Rock"
   ]
  },
  {
   "cell_type": "code",
   "execution_count": 29,
   "metadata": {},
   "outputs": [
    {
     "name": "stdout",
     "output_type": "stream",
     "text": [
      "Writing paper_agent.py\n"
     ]
    }
   ],
   "source": [
    "%%writefile paper_agent.py\n",
    "\n",
    "# Agent that always plays Paper\n",
    "def paper_agent(observation, configuration):\n",
    "    return 1  # 1: Paper"
   ]
  },
  {
   "cell_type": "code",
   "execution_count": 30,
   "metadata": {},
   "outputs": [
    {
     "name": "stdout",
     "output_type": "stream",
     "text": [
      "Writing scissors_agent.py\n"
     ]
    }
   ],
   "source": [
    "%%writefile scissors_agent.py\n",
    "\n",
    "# Agent that always plays Scissors\n",
    "def scissors_agent(observation, configuration):\n",
    "    return 2  # 2: Scissors"
   ]
  },
  {
   "cell_type": "code",
   "execution_count": 31,
   "metadata": {},
   "outputs": [
    {
     "name": "stdout",
     "output_type": "stream",
     "text": [
      "Writing random_agent.py\n"
     ]
    }
   ],
   "source": [
    "%%writefile random_agent.py\n",
    "\n",
    "import random\n",
    "\n",
    "# Agent that plays a random move\n",
    "def random_agent(observation, configuration):\n",
    "    import random\n",
    "    return random.randrange(0, configuration.signs)"
   ]
  },
  {
   "cell_type": "code",
   "execution_count": 32,
   "metadata": {},
   "outputs": [
    {
     "name": "stdout",
     "output_type": "stream",
     "text": [
      "Writing copy_opponent_agent.py\n"
     ]
    }
   ],
   "source": [
    "%%writefile copy_opponent_agent.py\n",
    "\n",
    "# Agent that copies the opponent's last move\n",
    "def copy_opponent_agent(observation, configuration):\n",
    "    import random\n",
    "    if observation.step > 0:\n",
    "        return observation.lastOpponentAction\n",
    "    else:\n",
    "        return random.randrange(0, configuration.signs)"
   ]
  },
  {
   "cell_type": "code",
   "execution_count": 33,
   "metadata": {},
   "outputs": [
    {
     "name": "stdout",
     "output_type": "stream",
     "text": [
      "Writing beat_last_move_agent.py\n"
     ]
    }
   ],
   "source": [
    "%%writefile beat_last_move_agent.py\n",
    "\n",
    "# Agent that plays the move that beats the opponent's last move\n",
    "def beat_last_move_agent(observation, configuration):\n",
    "    import random\n",
    "    if observation.step > 0:\n",
    "        return (observation.lastOpponentAction + 1) % configuration.signs\n",
    "    else:\n",
    "        return random.randrange(0, configuration.signs)"
   ]
  },
  {
   "cell_type": "code",
   "execution_count": 34,
   "metadata": {},
   "outputs": [
    {
     "name": "stdout",
     "output_type": "stream",
     "text": [
      "Writing rotate_moves_agent.py\n"
     ]
    }
   ],
   "source": [
    "%%writefile rotate_moves_agent.py\n",
    "\n",
    "# Agent that cycles through the moves in order\n",
    "def rotate_moves_agent(observation, configuration):\n",
    "    return observation.step % configuration.signs"
   ]
  },
  {
   "cell_type": "code",
   "execution_count": 35,
   "metadata": {},
   "outputs": [
    {
     "name": "stdout",
     "output_type": "stream",
     "text": [
      "Writing mirror_self_agent.py\n"
     ]
    }
   ],
   "source": [
    "%%writefile mirror_self_agent.py\n",
    "\n",
    "# Agent that repeats its own last move\n",
    "def mirror_self_agent(observation, configuration):\n",
    "    import random\n",
    "    if observation.step > 0:\n",
    "        return observation.agentAction\n",
    "    else:\n",
    "        return random.randrange(0, configuration.signs)"
   ]
  },
  {
   "cell_type": "code",
   "execution_count": 36,
   "metadata": {},
   "outputs": [
    {
     "name": "stdout",
     "output_type": "stream",
     "text": [
      "Writing statistical_agent.py\n"
     ]
    }
   ],
   "source": [
    "%%writefile statistical_agent.py\n",
    "\n",
    "# Agent that tracks opponent's moves and beats the most frequent one\n",
    "def statistical_agent(observation, configuration):\n",
    "    import random\n",
    "    if observation.step == 0:\n",
    "        statistical_agent.action_histogram = {}\n",
    "        return random.randrange(0, configuration.signs)\n",
    "    else:\n",
    "        opponent_action = observation.lastOpponentAction\n",
    "        histogram = statistical_agent.action_histogram\n",
    "        histogram[opponent_action] = histogram.get(opponent_action, 0) + 1\n",
    "        most_common = max(histogram, key=histogram.get)\n",
    "        # Play the move that beats the opponent's most frequent move\n",
    "        return (most_common + 1) % configuration.signs"
   ]
  },
  {
   "cell_type": "code",
   "execution_count": 37,
   "metadata": {},
   "outputs": [
    {
     "name": "stdout",
     "output_type": "stream",
     "text": [
      "Writing anti_statistical_agent.py\n"
     ]
    }
   ],
   "source": [
    "%%writefile anti_statistical_agent.py\n",
    "\n",
    "# Agent that tracks opponent's moves and beats the least frequent one\n",
    "def anti_statistical_agent(observation, configuration):\n",
    "    import random\n",
    "    if observation.step == 0:\n",
    "        anti_statistical_agent.action_histogram = {}\n",
    "        return random.randrange(0, configuration.signs)\n",
    "    else:\n",
    "        opponent_action = observation.lastOpponentAction\n",
    "        histogram = anti_statistical_agent.action_histogram\n",
    "        histogram[opponent_action] = histogram.get(opponent_action, 0) + 1\n",
    "        least_common = min(histogram, key=histogram.get)\n",
    "        # Play the move that beats the opponent's least frequent move\n",
    "        return (least_common + 1) % configuration.signs"
   ]
  },
  {
   "cell_type": "code",
   "execution_count": 38,
   "metadata": {},
   "outputs": [
    {
     "name": "stdout",
     "output_type": "stream",
     "text": [
      "Writing anti_last_move_agent.py\n"
     ]
    }
   ],
   "source": [
    "%%writefile anti_last_move_agent.py\n",
    "\n",
    "# Agent that plays the move that loses to the opponent's last move\n",
    "def anti_last_move_agent(observation, configuration):\n",
    "    import random\n",
    "    if observation.step > 0:\n",
    "        return (observation.lastOpponentAction + 2) % configuration.signs\n",
    "    else:\n",
    "        return random.randrange(0, configuration.signs)"
   ]
  },
  {
   "cell_type": "code",
   "execution_count": 39,
   "metadata": {},
   "outputs": [
    {
     "name": "stdout",
     "output_type": "stream",
     "text": [
      "Writing biased_random_agent.py\n"
     ]
    }
   ],
   "source": [
    "%%writefile biased_random_agent.py\n",
    "\n",
    "# Agent that plays Rock more frequently\n",
    "def biased_random_agent(observation, configuration):\n",
    "    import random\n",
    "    choice = random.random()\n",
    "    if choice < 0.6:\n",
    "        return 0  # Rock\n",
    "    elif choice < 0.8:\n",
    "        return 1  # Paper\n",
    "    else:\n",
    "        return 2  # Scissors"
   ]
  },
  {
   "cell_type": "code",
   "execution_count": 40,
   "metadata": {},
   "outputs": [
    {
     "name": "stdout",
     "output_type": "stream",
     "text": [
      "Writing frequency_analysis_agent.py\n"
     ]
    }
   ],
   "source": [
    "%%writefile frequency_analysis_agent.py\n",
    "\n",
    "# Agent that predicts the opponent's next move based on frequency analysis\n",
    "def frequency_analysis_agent(observation, configuration):\n",
    "    import random\n",
    "    if observation.step == 0:\n",
    "        frequency_analysis_agent.action_histogram = {}\n",
    "        return random.randrange(0, configuration.signs)\n",
    "    else:\n",
    "        opponent_action = observation.lastOpponentAction\n",
    "        histogram = frequency_analysis_agent.action_histogram\n",
    "        histogram[opponent_action] = histogram.get(opponent_action, 0) + 1\n",
    "        # Predict opponent's next move\n",
    "        predicted_move = max(histogram, key=histogram.get)\n",
    "        # Play the move that beats the predicted move\n",
    "        return (predicted_move + 1) % configuration.signs"
   ]
  },
  {
   "cell_type": "code",
   "execution_count": 41,
   "metadata": {},
   "outputs": [
    {
     "name": "stdout",
     "output_type": "stream",
     "text": [
      "Writing pattern_detector_agent.py\n"
     ]
    }
   ],
   "source": [
    "%%writefile pattern_detector_agent.py\n",
    "\n",
    "# Agent that tries to detect patterns in the opponent's moves\n",
    "def pattern_detector_agent(observation, configuration):\n",
    "    import random\n",
    "    if observation.step < 2:\n",
    "        pattern_detector_agent.last_moves = []\n",
    "        return random.randrange(0, configuration.signs)\n",
    "    else:\n",
    "        opponent_action = observation.lastOpponentAction\n",
    "        pattern_detector_agent.last_moves.append(opponent_action)\n",
    "        # Simple pattern detection: if the opponent repeats the same move\n",
    "        if pattern_detector_agent.last_moves[-1] == pattern_detector_agent.last_moves[-2]:\n",
    "            # Assume the opponent will repeat again\n",
    "            predicted_move = opponent_action\n",
    "        else:\n",
    "            predicted_move = random.randrange(0, configuration.signs)\n",
    "        # Play the move that beats the predicted move\n",
    "        return (predicted_move + 1) % configuration.signs"
   ]
  },
  {
   "cell_type": "code",
   "execution_count": 42,
   "metadata": {},
   "outputs": [
    {
     "name": "stdout",
     "output_type": "stream",
     "text": [
      "Writing level2_random_agent.py\n"
     ]
    }
   ],
   "source": [
    "%%writefile level2_random_agent.py\n",
    "\n",
    "# Agent that uses a predefined sequence\n",
    "def level2_random_agent(observation, configuration):\n",
    "    sequence = [0, 1, 2, 0, 1, 2]\n",
    "    return sequence[observation.step % len(sequence)]"
   ]
  },
  {
   "cell_type": "code",
   "execution_count": 43,
   "metadata": {},
   "outputs": [],
   "source": [
    "import os\n",
    "import pandas as pd\n",
    "from kaggle_environments import make, evaluate\n",
    "\n",
    "# List of agent filenames\n",
    "agent_files = [\n",
    "  \"rock_agent.py\",\n",
    "  \"paper_agent.py\",\n",
    "  \"scissors_agent.py\",\n",
    "  \"random_agent.py\",\n",
    "  \"copy_opponent_agent.py\",\n",
    "  \"beat_last_move_agent.py\",\n",
    "  \"rotate_moves_agent.py\",\n",
    "  \"mirror_self_agent.py\",\n",
    "  \"statistical_agent.py\",\n",
    "  \"anti_statistical_agent.py\",\n",
    "  \"anti_last_move_agent.py\",\n",
    "  \"biased_random_agent.py\",\n",
    "  \"frequency_analysis_agent.py\",\n",
    "  \"pattern_detector_agent.py\",\n",
    "  \"level2_random_agent.py\",\n",
    "]\n",
    "\n",
    "# Verify that all files exist\n",
    "for agent_file in agent_files:\n",
    "  assert os.path.exists(agent_file), f\"Agent file {agent_file} not found.\""
   ]
  },
  {
   "cell_type": "code",
   "execution_count": 44,
   "metadata": {},
   "outputs": [],
   "source": [
    "# Prepare a DataFrame to store the results\n",
    "agent_names = [af.replace(\"_agent.py\", \"\") for af in agent_files]\n",
    "results = pd.DataFrame(0, index=agent_names, columns=agent_names)\n",
    "\n",
    "# Number of rounds in each match\n",
    "num_rounds = 100\n",
    "\n",
    "# Run the tournament\n",
    "for i, agent1 in enumerate(agent_files):\n",
    "  for j, agent2 in enumerate(agent_files):\n",
    "      if i != j:\n",
    "          # Evaluate the match between agent1 and agent2\n",
    "          scores = evaluate(\n",
    "              \"rps\",  # Rock-Paper-Scissors environment\n",
    "              [agent1, agent2],\n",
    "              configuration={\"episodeSteps\": num_rounds},\n",
    "              num_episodes=1,\n",
    "          )\n",
    "          # The result is a list of [reward1, reward2]\n",
    "          reward_agent1 = scores[0][0]\n",
    "          results.at[agent_names[i], agent_names[j]] = reward_agent1\n",
    "      else:\n",
    "          # No need to play against self\n",
    "          results.at[agent_names[i], agent_names[j]] = 0"
   ]
  },
  {
   "cell_type": "code",
   "execution_count": 45,
   "metadata": {},
   "outputs": [
    {
     "name": "stdout",
     "output_type": "stream",
     "text": [
      "Tournament Results:\n",
      "                    Total Score  Win Rate\n",
      "frequency_analysis        503.0  0.359286\n",
      "statistical               498.0  0.355714\n",
      "beat_last_move            382.0  0.272857\n",
      "anti_statistical          274.0  0.195714\n",
      "random                      2.0  0.001429\n",
      "pattern_detector            1.0  0.000714\n",
      "mirror_self                 0.0  0.000000\n",
      "biased_random             -66.0 -0.047143\n",
      "rotate_moves              -93.0 -0.066429\n",
      "level2_random             -93.0 -0.066429\n",
      "anti_last_move           -189.0 -0.135000\n",
      "paper                    -252.0 -0.180000\n",
      "rock                     -292.0 -0.208571\n",
      "scissors                 -337.0 -0.240714\n",
      "copy_opponent            -383.0 -0.273571\n"
     ]
    }
   ],
   "source": [
    "# Calculate total scores\n",
    "results['Total Score'] = results.sum(axis=1)\n",
    "\n",
    "# Calculate win rates\n",
    "num_opponents = len(agent_names) - 1\n",
    "max_score = num_opponents * num_rounds  # Maximum possible score\n",
    "results['Win Rate'] = results['Total Score'] / max_score\n",
    "\n",
    "# Sort agents by total score\n",
    "results = results.sort_values(by='Total Score', ascending=False)\n",
    "\n",
    "# Display the results\n",
    "print(\"Tournament Results:\")\n",
    "print(results[['Total Score', 'Win Rate']])"
   ]
  },
  {
   "cell_type": "code",
   "execution_count": 46,
   "metadata": {},
   "outputs": [
    {
     "data": {
      "image/png": "[encoded data removed]",
      "text/plain": [
       "<Figure size 1200x600 with 1 Axes>"
      ]
     },
     "metadata": {},
     "output_type": "display_data"
    }
   ],
   "source": [
    "import matplotlib.pyplot as plt\n",
    "\n",
    "# Plotting the Win Rates\n",
    "plt.figure(figsize=(12, 6))\n",
    "plt.bar(results.index, results['Win Rate'])\n",
    "plt.xlabel('Agents')\n",
    "plt.ylabel('Win Rate')\n",
    "plt.title('Agent Win Rates in Rock-Paper-Scissors Tournament')\n",
    "plt.xticks(rotation=45)\n",
    "plt.tight_layout()\n",
    "plt.show()"
   ]
  }
 ],
 "metadata": {
  "kernelspec": {
   "display_name": "Python 3",
   "language": "python",
   "name": "python3"
  },
  "language_info": {
   "codemirror_mode": {
    "name": "ipython",
    "version": 3
   },
   "file_extension": ".py",
   "mimetype": "text/x-python",
   "name": "python",
   "nbconvert_exporter": "python",
   "pygments_lexer": "ipython3",
   "version": "3.12.3"
  }
 },
 "nbformat": 4,
 "nbformat_minor": 2
}
